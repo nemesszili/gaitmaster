{
 "cells": [
  {
   "cell_type": "code",
   "execution_count": 31,
   "metadata": {},
   "outputs": [],
   "source": [
    "# https://scikit-learn.org/stable/auto_examples/svm/plot_oneclass.html\n",
    "# https://scikit-learn.org/stable/modules/outlier_detection.html#outlier-detection"
   ]
  },
  {
   "cell_type": "code",
   "execution_count": 5,
   "metadata": {},
   "outputs": [],
   "source": [
    "import pandas as pd\n",
    "import numpy as np\n",
    "from pathlib import Path\n",
    "from pprint import pprint\n",
    "from scipy import signal"
   ]
  },
  {
   "cell_type": "code",
   "execution_count": 1,
   "metadata": {},
   "outputs": [],
   "source": [
    "import matplotlib.pylab as pylab\n",
    "import matplotlib.pyplot as plt\n",
    "from matplotlib.ticker import StrMethodFormatter\n",
    "params = {'legend.fontsize': 'x-large',\n",
    "          'figure.figsize': (15, 5),\n",
    "          'axes.labelsize': 'x-large',\n",
    "          'axes.titlesize': 'x-large',\n",
    "          'xtick.labelsize': 'x-large',\n",
    "          'ytick.labelsize': 'x-large'}\n",
    "pylab.rcParams.update(params)"
   ]
  },
  {
   "cell_type": "markdown",
   "metadata": {},
   "source": [
    "## Preprocessing"
   ]
  },
  {
   "cell_type": "code",
   "execution_count": 67,
   "metadata": {},
   "outputs": [],
   "source": [
    "basePath = '../../zju-gaitacc/'\n",
    "LENGTH = 1000"
   ]
  },
  {
   "cell_type": "code",
   "execution_count": 72,
   "metadata": {
    "scrolled": false
   },
   "outputs": [],
   "source": [
    "def session_to_dataframe(session):\n",
    "    df = pd.DataFrame(columns=range(3 * LENGTH + 1))\n",
    "    \n",
    "    i = 0\n",
    "    for subj in Path(basePath + session).glob('subj_*'):\n",
    "        for rec in subj.glob('*'):\n",
    "            with open(rec.joinpath('3.txt')) as f:\n",
    "                # extract the relevant range\n",
    "                with open(rec.joinpath('useful.txt')) as use:\n",
    "                    begin_rec, end_rec = use.readline().split(',')\n",
    "\n",
    "                begin_rec = int(begin_rec)\n",
    "                end_rec = int(end_rec)\n",
    "\n",
    "                # read the content of the file\n",
    "                lines = list(map(lambda line: [float(x) for x in line.strip().split(',')], f.readlines()))\n",
    "\n",
    "                # select only relevant portion of the recording and resample it to fixed length\n",
    "                lines = list(map(lambda x: signal.resample(x[begin_rec:end_rec], LENGTH), lines))\n",
    "\n",
    "                # select label of measurement\n",
    "                label = int(subj.name.split('_')[1])\n",
    "\n",
    "                flat_list = [el for l in lines for el in l]\n",
    "                flat_list.append(label)\n",
    "                df.loc[i] = flat_list\n",
    "                i += 1\n",
    "                \n",
    "    return df"
   ]
  },
  {
   "cell_type": "code",
   "execution_count": 66,
   "metadata": {},
   "outputs": [],
   "source": [
    "df.to_csv('full_rec.csv', sep='\\t', encoding='utf-8')"
   ]
  },
  {
   "cell_type": "code",
   "execution_count": 76,
   "metadata": {},
   "outputs": [
    {
     "data": {
      "text/html": [
       "<div>\n",
       "<style scoped>\n",
       "    .dataframe tbody tr th:only-of-type {\n",
       "        vertical-align: middle;\n",
       "    }\n",
       "\n",
       "    .dataframe tbody tr th {\n",
       "        vertical-align: top;\n",
       "    }\n",
       "\n",
       "    .dataframe thead th {\n",
       "        text-align: right;\n",
       "    }\n",
       "</style>\n",
       "<table border=\"1\" class=\"dataframe\">\n",
       "  <thead>\n",
       "    <tr style=\"text-align: right;\">\n",
       "      <th></th>\n",
       "      <th>0</th>\n",
       "      <th>1</th>\n",
       "      <th>2</th>\n",
       "      <th>3</th>\n",
       "      <th>4</th>\n",
       "      <th>5</th>\n",
       "      <th>6</th>\n",
       "      <th>7</th>\n",
       "      <th>8</th>\n",
       "      <th>9</th>\n",
       "      <th>...</th>\n",
       "      <th>2991</th>\n",
       "      <th>2992</th>\n",
       "      <th>2993</th>\n",
       "      <th>2994</th>\n",
       "      <th>2995</th>\n",
       "      <th>2996</th>\n",
       "      <th>2997</th>\n",
       "      <th>2998</th>\n",
       "      <th>2999</th>\n",
       "      <th>3000</th>\n",
       "    </tr>\n",
       "  </thead>\n",
       "  <tbody>\n",
       "    <tr>\n",
       "      <th>0</th>\n",
       "      <td>-0.463888</td>\n",
       "      <td>-0.568022</td>\n",
       "      <td>-0.556638</td>\n",
       "      <td>-0.561470</td>\n",
       "      <td>-0.559863</td>\n",
       "      <td>-0.527601</td>\n",
       "      <td>-0.464758</td>\n",
       "      <td>-0.396249</td>\n",
       "      <td>-0.387402</td>\n",
       "      <td>-0.328449</td>\n",
       "      <td>...</td>\n",
       "      <td>-0.138952</td>\n",
       "      <td>-0.137765</td>\n",
       "      <td>-0.165438</td>\n",
       "      <td>-0.156658</td>\n",
       "      <td>-0.164774</td>\n",
       "      <td>-0.208861</td>\n",
       "      <td>-0.249122</td>\n",
       "      <td>-0.228193</td>\n",
       "      <td>-0.284959</td>\n",
       "      <td>1.0</td>\n",
       "    </tr>\n",
       "    <tr>\n",
       "      <th>1</th>\n",
       "      <td>-0.231352</td>\n",
       "      <td>-0.240185</td>\n",
       "      <td>-0.233624</td>\n",
       "      <td>-0.124191</td>\n",
       "      <td>-0.005490</td>\n",
       "      <td>0.003107</td>\n",
       "      <td>0.049905</td>\n",
       "      <td>0.000627</td>\n",
       "      <td>-0.074656</td>\n",
       "      <td>-0.182033</td>\n",
       "      <td>...</td>\n",
       "      <td>0.026411</td>\n",
       "      <td>-0.207980</td>\n",
       "      <td>-0.281305</td>\n",
       "      <td>-0.285548</td>\n",
       "      <td>-0.269580</td>\n",
       "      <td>-0.298430</td>\n",
       "      <td>-0.226888</td>\n",
       "      <td>-0.163800</td>\n",
       "      <td>-0.066601</td>\n",
       "      <td>1.0</td>\n",
       "    </tr>\n",
       "    <tr>\n",
       "      <th>2</th>\n",
       "      <td>-0.163377</td>\n",
       "      <td>-0.161731</td>\n",
       "      <td>-0.145932</td>\n",
       "      <td>-0.092971</td>\n",
       "      <td>-0.045315</td>\n",
       "      <td>-0.038921</td>\n",
       "      <td>-0.039928</td>\n",
       "      <td>-0.040995</td>\n",
       "      <td>-0.037494</td>\n",
       "      <td>-0.076497</td>\n",
       "      <td>...</td>\n",
       "      <td>-0.157633</td>\n",
       "      <td>-0.217119</td>\n",
       "      <td>-0.239774</td>\n",
       "      <td>-0.242222</td>\n",
       "      <td>-0.236572</td>\n",
       "      <td>-0.245496</td>\n",
       "      <td>-0.223905</td>\n",
       "      <td>-0.197014</td>\n",
       "      <td>-0.200350</td>\n",
       "      <td>1.0</td>\n",
       "    </tr>\n",
       "    <tr>\n",
       "      <th>3</th>\n",
       "      <td>-0.093648</td>\n",
       "      <td>-0.019226</td>\n",
       "      <td>-0.070624</td>\n",
       "      <td>-0.080682</td>\n",
       "      <td>-0.119799</td>\n",
       "      <td>-0.119887</td>\n",
       "      <td>-0.119711</td>\n",
       "      <td>-0.120810</td>\n",
       "      <td>-0.118555</td>\n",
       "      <td>-0.122372</td>\n",
       "      <td>...</td>\n",
       "      <td>-0.162284</td>\n",
       "      <td>-0.158943</td>\n",
       "      <td>-0.126964</td>\n",
       "      <td>-0.118077</td>\n",
       "      <td>-0.105352</td>\n",
       "      <td>-0.040786</td>\n",
       "      <td>-0.042058</td>\n",
       "      <td>-0.047069</td>\n",
       "      <td>-0.139111</td>\n",
       "      <td>1.0</td>\n",
       "    </tr>\n",
       "    <tr>\n",
       "      <th>4</th>\n",
       "      <td>-0.202545</td>\n",
       "      <td>-0.201062</td>\n",
       "      <td>-0.197752</td>\n",
       "      <td>-0.203694</td>\n",
       "      <td>-0.188688</td>\n",
       "      <td>-0.099192</td>\n",
       "      <td>-0.078455</td>\n",
       "      <td>-0.076922</td>\n",
       "      <td>-0.048118</td>\n",
       "      <td>-0.084154</td>\n",
       "      <td>...</td>\n",
       "      <td>-0.182290</td>\n",
       "      <td>-0.152743</td>\n",
       "      <td>-0.163139</td>\n",
       "      <td>-0.096887</td>\n",
       "      <td>-0.100774</td>\n",
       "      <td>-0.128212</td>\n",
       "      <td>-0.154171</td>\n",
       "      <td>-0.167566</td>\n",
       "      <td>-0.127566</td>\n",
       "      <td>1.0</td>\n",
       "    </tr>\n",
       "  </tbody>\n",
       "</table>\n",
       "<p>5 rows × 3001 columns</p>\n",
       "</div>"
      ],
      "text/plain": [
       "       0         1         2         3         4         5         6     \\\n",
       "0 -0.463888 -0.568022 -0.556638 -0.561470 -0.559863 -0.527601 -0.464758   \n",
       "1 -0.231352 -0.240185 -0.233624 -0.124191 -0.005490  0.003107  0.049905   \n",
       "2 -0.163377 -0.161731 -0.145932 -0.092971 -0.045315 -0.038921 -0.039928   \n",
       "3 -0.093648 -0.019226 -0.070624 -0.080682 -0.119799 -0.119887 -0.119711   \n",
       "4 -0.202545 -0.201062 -0.197752 -0.203694 -0.188688 -0.099192 -0.078455   \n",
       "\n",
       "       7         8         9     ...      2991      2992      2993      2994  \\\n",
       "0 -0.396249 -0.387402 -0.328449  ... -0.138952 -0.137765 -0.165438 -0.156658   \n",
       "1  0.000627 -0.074656 -0.182033  ...  0.026411 -0.207980 -0.281305 -0.285548   \n",
       "2 -0.040995 -0.037494 -0.076497  ... -0.157633 -0.217119 -0.239774 -0.242222   \n",
       "3 -0.120810 -0.118555 -0.122372  ... -0.162284 -0.158943 -0.126964 -0.118077   \n",
       "4 -0.076922 -0.048118 -0.084154  ... -0.182290 -0.152743 -0.163139 -0.096887   \n",
       "\n",
       "       2995      2996      2997      2998      2999  3000  \n",
       "0 -0.164774 -0.208861 -0.249122 -0.228193 -0.284959   1.0  \n",
       "1 -0.269580 -0.298430 -0.226888 -0.163800 -0.066601   1.0  \n",
       "2 -0.236572 -0.245496 -0.223905 -0.197014 -0.200350   1.0  \n",
       "3 -0.105352 -0.040786 -0.042058 -0.047069 -0.139111   1.0  \n",
       "4 -0.100774 -0.128212 -0.154171 -0.167566 -0.127566   1.0  \n",
       "\n",
       "[5 rows x 3001 columns]"
      ]
     },
     "execution_count": 76,
     "metadata": {},
     "output_type": "execute_result"
    }
   ],
   "source": [
    "df_s0 = session_to_dataframe('session_0')\n",
    "df_s0.head()"
   ]
  },
  {
   "cell_type": "code",
   "execution_count": 77,
   "metadata": {},
   "outputs": [
    {
     "data": {
      "text/plain": [
       "(132, 3001)"
      ]
     },
     "execution_count": 77,
     "metadata": {},
     "output_type": "execute_result"
    }
   ],
   "source": [
    "df_s0.shape"
   ]
  },
  {
   "cell_type": "code",
   "execution_count": 84,
   "metadata": {},
   "outputs": [
    {
     "data": {
      "text/html": [
       "<div>\n",
       "<style scoped>\n",
       "    .dataframe tbody tr th:only-of-type {\n",
       "        vertical-align: middle;\n",
       "    }\n",
       "\n",
       "    .dataframe tbody tr th {\n",
       "        vertical-align: top;\n",
       "    }\n",
       "\n",
       "    .dataframe thead th {\n",
       "        text-align: right;\n",
       "    }\n",
       "</style>\n",
       "<table border=\"1\" class=\"dataframe\">\n",
       "  <thead>\n",
       "    <tr style=\"text-align: right;\">\n",
       "      <th></th>\n",
       "      <th>0</th>\n",
       "      <th>1</th>\n",
       "      <th>2</th>\n",
       "      <th>3</th>\n",
       "      <th>4</th>\n",
       "      <th>5</th>\n",
       "      <th>6</th>\n",
       "      <th>7</th>\n",
       "      <th>8</th>\n",
       "      <th>9</th>\n",
       "      <th>...</th>\n",
       "      <th>2991</th>\n",
       "      <th>2992</th>\n",
       "      <th>2993</th>\n",
       "      <th>2994</th>\n",
       "      <th>2995</th>\n",
       "      <th>2996</th>\n",
       "      <th>2997</th>\n",
       "      <th>2998</th>\n",
       "      <th>2999</th>\n",
       "      <th>3000</th>\n",
       "    </tr>\n",
       "  </thead>\n",
       "  <tbody>\n",
       "    <tr>\n",
       "      <th>0</th>\n",
       "      <td>-0.080000</td>\n",
       "      <td>-0.043293</td>\n",
       "      <td>0.069078</td>\n",
       "      <td>0.193214</td>\n",
       "      <td>0.174583</td>\n",
       "      <td>0.087142</td>\n",
       "      <td>0.081191</td>\n",
       "      <td>0.049842</td>\n",
       "      <td>0.040916</td>\n",
       "      <td>-0.006895</td>\n",
       "      <td>...</td>\n",
       "      <td>-0.077333</td>\n",
       "      <td>-0.012389</td>\n",
       "      <td>0.046707</td>\n",
       "      <td>0.037176</td>\n",
       "      <td>0.042090</td>\n",
       "      <td>0.036486</td>\n",
       "      <td>-0.005772</td>\n",
       "      <td>-0.041089</td>\n",
       "      <td>-0.040202</td>\n",
       "      <td>1.0</td>\n",
       "    </tr>\n",
       "    <tr>\n",
       "      <th>1</th>\n",
       "      <td>0.040890</td>\n",
       "      <td>0.039615</td>\n",
       "      <td>0.040546</td>\n",
       "      <td>0.081605</td>\n",
       "      <td>0.121403</td>\n",
       "      <td>0.162758</td>\n",
       "      <td>0.201138</td>\n",
       "      <td>0.199434</td>\n",
       "      <td>0.200334</td>\n",
       "      <td>0.200997</td>\n",
       "      <td>...</td>\n",
       "      <td>-0.043100</td>\n",
       "      <td>-0.035268</td>\n",
       "      <td>-0.115432</td>\n",
       "      <td>-0.122316</td>\n",
       "      <td>-0.081916</td>\n",
       "      <td>-0.078637</td>\n",
       "      <td>-0.081458</td>\n",
       "      <td>-0.078331</td>\n",
       "      <td>-0.081934</td>\n",
       "      <td>1.0</td>\n",
       "    </tr>\n",
       "    <tr>\n",
       "      <th>2</th>\n",
       "      <td>0.080000</td>\n",
       "      <td>0.083538</td>\n",
       "      <td>0.103522</td>\n",
       "      <td>0.163530</td>\n",
       "      <td>0.153366</td>\n",
       "      <td>0.161573</td>\n",
       "      <td>0.200171</td>\n",
       "      <td>0.319858</td>\n",
       "      <td>0.246203</td>\n",
       "      <td>0.317491</td>\n",
       "      <td>...</td>\n",
       "      <td>-0.334404</td>\n",
       "      <td>-0.441841</td>\n",
       "      <td>-0.381637</td>\n",
       "      <td>-0.349058</td>\n",
       "      <td>-0.207938</td>\n",
       "      <td>-0.218841</td>\n",
       "      <td>-0.064029</td>\n",
       "      <td>-0.283263</td>\n",
       "      <td>-0.219555</td>\n",
       "      <td>1.0</td>\n",
       "    </tr>\n",
       "    <tr>\n",
       "      <th>3</th>\n",
       "      <td>-0.069611</td>\n",
       "      <td>-0.090384</td>\n",
       "      <td>-0.068066</td>\n",
       "      <td>-0.051914</td>\n",
       "      <td>-0.023335</td>\n",
       "      <td>0.070937</td>\n",
       "      <td>0.095703</td>\n",
       "      <td>0.151044</td>\n",
       "      <td>0.174884</td>\n",
       "      <td>0.188573</td>\n",
       "      <td>...</td>\n",
       "      <td>-0.030943</td>\n",
       "      <td>-0.050155</td>\n",
       "      <td>0.005165</td>\n",
       "      <td>-0.008122</td>\n",
       "      <td>0.045458</td>\n",
       "      <td>-0.003261</td>\n",
       "      <td>-0.068483</td>\n",
       "      <td>-0.243170</td>\n",
       "      <td>-0.312281</td>\n",
       "      <td>1.0</td>\n",
       "    </tr>\n",
       "    <tr>\n",
       "      <th>4</th>\n",
       "      <td>0.186489</td>\n",
       "      <td>0.252498</td>\n",
       "      <td>0.227937</td>\n",
       "      <td>0.252023</td>\n",
       "      <td>0.231094</td>\n",
       "      <td>0.312947</td>\n",
       "      <td>0.302014</td>\n",
       "      <td>0.347908</td>\n",
       "      <td>0.268394</td>\n",
       "      <td>0.546048</td>\n",
       "      <td>...</td>\n",
       "      <td>0.037286</td>\n",
       "      <td>0.042754</td>\n",
       "      <td>0.037252</td>\n",
       "      <td>0.042627</td>\n",
       "      <td>0.037815</td>\n",
       "      <td>0.040463</td>\n",
       "      <td>0.068467</td>\n",
       "      <td>0.087108</td>\n",
       "      <td>0.074376</td>\n",
       "      <td>1.0</td>\n",
       "    </tr>\n",
       "  </tbody>\n",
       "</table>\n",
       "<p>5 rows × 3001 columns</p>\n",
       "</div>"
      ],
      "text/plain": [
       "       0         1         2         3         4         5         6     \\\n",
       "0 -0.080000 -0.043293  0.069078  0.193214  0.174583  0.087142  0.081191   \n",
       "1  0.040890  0.039615  0.040546  0.081605  0.121403  0.162758  0.201138   \n",
       "2  0.080000  0.083538  0.103522  0.163530  0.153366  0.161573  0.200171   \n",
       "3 -0.069611 -0.090384 -0.068066 -0.051914 -0.023335  0.070937  0.095703   \n",
       "4  0.186489  0.252498  0.227937  0.252023  0.231094  0.312947  0.302014   \n",
       "\n",
       "       7         8         9     ...      2991      2992      2993      2994  \\\n",
       "0  0.049842  0.040916 -0.006895  ... -0.077333 -0.012389  0.046707  0.037176   \n",
       "1  0.199434  0.200334  0.200997  ... -0.043100 -0.035268 -0.115432 -0.122316   \n",
       "2  0.319858  0.246203  0.317491  ... -0.334404 -0.441841 -0.381637 -0.349058   \n",
       "3  0.151044  0.174884  0.188573  ... -0.030943 -0.050155  0.005165 -0.008122   \n",
       "4  0.347908  0.268394  0.546048  ...  0.037286  0.042754  0.037252  0.042627   \n",
       "\n",
       "       2995      2996      2997      2998      2999  3000  \n",
       "0  0.042090  0.036486 -0.005772 -0.041089 -0.040202   1.0  \n",
       "1 -0.081916 -0.078637 -0.081458 -0.078331 -0.081934   1.0  \n",
       "2 -0.207938 -0.218841 -0.064029 -0.283263 -0.219555   1.0  \n",
       "3  0.045458 -0.003261 -0.068483 -0.243170 -0.312281   1.0  \n",
       "4  0.037815  0.040463  0.068467  0.087108  0.074376   1.0  \n",
       "\n",
       "[5 rows x 3001 columns]"
      ]
     },
     "execution_count": 84,
     "metadata": {},
     "output_type": "execute_result"
    }
   ],
   "source": [
    "df_s1 = session_to_dataframe('session_1')\n",
    "df_s1.head()"
   ]
  },
  {
   "cell_type": "code",
   "execution_count": 85,
   "metadata": {},
   "outputs": [
    {
     "data": {
      "text/plain": [
       "(918, 3001)"
      ]
     },
     "execution_count": 85,
     "metadata": {},
     "output_type": "execute_result"
    }
   ],
   "source": [
    "df_s1.shape"
   ]
  },
  {
   "cell_type": "code",
   "execution_count": 86,
   "metadata": {},
   "outputs": [],
   "source": [
    "df_s1.to_csv('full_session1.csv', sep='\\t', encoding='utf-8')"
   ]
  },
  {
   "cell_type": "markdown",
   "metadata": {},
   "source": [
    "## Data loading"
   ]
  },
  {
   "cell_type": "code",
   "execution_count": 1,
   "metadata": {},
   "outputs": [],
   "source": [
    "from sklearn.model_selection import train_test_split"
   ]
  },
  {
   "cell_type": "code",
   "execution_count": 32,
   "metadata": {},
   "outputs": [],
   "source": [
    "df_s1 = pd.read_csv('full_session1.csv', sep='\\t')"
   ]
  },
  {
   "cell_type": "code",
   "execution_count": 121,
   "metadata": {},
   "outputs": [
    {
     "data": {
      "text/plain": [
       "(918, 3002)"
      ]
     },
     "execution_count": 121,
     "metadata": {},
     "output_type": "execute_result"
    }
   ],
   "source": [
    "df_s1.shape"
   ]
  },
  {
   "cell_type": "code",
   "execution_count": 122,
   "metadata": {},
   "outputs": [
    {
     "data": {
      "text/html": [
       "<div>\n",
       "<style scoped>\n",
       "    .dataframe tbody tr th:only-of-type {\n",
       "        vertical-align: middle;\n",
       "    }\n",
       "\n",
       "    .dataframe tbody tr th {\n",
       "        vertical-align: top;\n",
       "    }\n",
       "\n",
       "    .dataframe thead th {\n",
       "        text-align: right;\n",
       "    }\n",
       "</style>\n",
       "<table border=\"1\" class=\"dataframe\">\n",
       "  <thead>\n",
       "    <tr style=\"text-align: right;\">\n",
       "      <th></th>\n",
       "      <th>Unnamed: 0</th>\n",
       "      <th>0</th>\n",
       "      <th>1</th>\n",
       "      <th>2</th>\n",
       "      <th>3</th>\n",
       "      <th>4</th>\n",
       "      <th>5</th>\n",
       "      <th>6</th>\n",
       "      <th>7</th>\n",
       "      <th>8</th>\n",
       "      <th>...</th>\n",
       "      <th>2991</th>\n",
       "      <th>2992</th>\n",
       "      <th>2993</th>\n",
       "      <th>2994</th>\n",
       "      <th>2995</th>\n",
       "      <th>2996</th>\n",
       "      <th>2997</th>\n",
       "      <th>2998</th>\n",
       "      <th>2999</th>\n",
       "      <th>3000</th>\n",
       "    </tr>\n",
       "  </thead>\n",
       "  <tbody>\n",
       "    <tr>\n",
       "      <th>0</th>\n",
       "      <td>0</td>\n",
       "      <td>-0.080000</td>\n",
       "      <td>-0.043293</td>\n",
       "      <td>0.069078</td>\n",
       "      <td>0.193214</td>\n",
       "      <td>0.174583</td>\n",
       "      <td>0.087142</td>\n",
       "      <td>0.081191</td>\n",
       "      <td>0.049842</td>\n",
       "      <td>0.040916</td>\n",
       "      <td>...</td>\n",
       "      <td>-0.077333</td>\n",
       "      <td>-0.012389</td>\n",
       "      <td>0.046707</td>\n",
       "      <td>0.037176</td>\n",
       "      <td>0.042090</td>\n",
       "      <td>0.036486</td>\n",
       "      <td>-0.005772</td>\n",
       "      <td>-0.041089</td>\n",
       "      <td>-0.040202</td>\n",
       "      <td>1.0</td>\n",
       "    </tr>\n",
       "    <tr>\n",
       "      <th>1</th>\n",
       "      <td>1</td>\n",
       "      <td>0.040890</td>\n",
       "      <td>0.039615</td>\n",
       "      <td>0.040546</td>\n",
       "      <td>0.081605</td>\n",
       "      <td>0.121403</td>\n",
       "      <td>0.162758</td>\n",
       "      <td>0.201138</td>\n",
       "      <td>0.199434</td>\n",
       "      <td>0.200334</td>\n",
       "      <td>...</td>\n",
       "      <td>-0.043100</td>\n",
       "      <td>-0.035268</td>\n",
       "      <td>-0.115432</td>\n",
       "      <td>-0.122316</td>\n",
       "      <td>-0.081916</td>\n",
       "      <td>-0.078637</td>\n",
       "      <td>-0.081458</td>\n",
       "      <td>-0.078331</td>\n",
       "      <td>-0.081934</td>\n",
       "      <td>1.0</td>\n",
       "    </tr>\n",
       "    <tr>\n",
       "      <th>2</th>\n",
       "      <td>2</td>\n",
       "      <td>0.080000</td>\n",
       "      <td>0.083538</td>\n",
       "      <td>0.103522</td>\n",
       "      <td>0.163530</td>\n",
       "      <td>0.153366</td>\n",
       "      <td>0.161573</td>\n",
       "      <td>0.200171</td>\n",
       "      <td>0.319858</td>\n",
       "      <td>0.246203</td>\n",
       "      <td>...</td>\n",
       "      <td>-0.334404</td>\n",
       "      <td>-0.441841</td>\n",
       "      <td>-0.381637</td>\n",
       "      <td>-0.349058</td>\n",
       "      <td>-0.207938</td>\n",
       "      <td>-0.218841</td>\n",
       "      <td>-0.064029</td>\n",
       "      <td>-0.283263</td>\n",
       "      <td>-0.219555</td>\n",
       "      <td>1.0</td>\n",
       "    </tr>\n",
       "    <tr>\n",
       "      <th>3</th>\n",
       "      <td>3</td>\n",
       "      <td>-0.069611</td>\n",
       "      <td>-0.090384</td>\n",
       "      <td>-0.068066</td>\n",
       "      <td>-0.051914</td>\n",
       "      <td>-0.023335</td>\n",
       "      <td>0.070937</td>\n",
       "      <td>0.095703</td>\n",
       "      <td>0.151044</td>\n",
       "      <td>0.174884</td>\n",
       "      <td>...</td>\n",
       "      <td>-0.030943</td>\n",
       "      <td>-0.050155</td>\n",
       "      <td>0.005165</td>\n",
       "      <td>-0.008122</td>\n",
       "      <td>0.045458</td>\n",
       "      <td>-0.003261</td>\n",
       "      <td>-0.068483</td>\n",
       "      <td>-0.243170</td>\n",
       "      <td>-0.312281</td>\n",
       "      <td>1.0</td>\n",
       "    </tr>\n",
       "    <tr>\n",
       "      <th>4</th>\n",
       "      <td>4</td>\n",
       "      <td>0.186489</td>\n",
       "      <td>0.252498</td>\n",
       "      <td>0.227937</td>\n",
       "      <td>0.252023</td>\n",
       "      <td>0.231094</td>\n",
       "      <td>0.312947</td>\n",
       "      <td>0.302014</td>\n",
       "      <td>0.347908</td>\n",
       "      <td>0.268394</td>\n",
       "      <td>...</td>\n",
       "      <td>0.037286</td>\n",
       "      <td>0.042754</td>\n",
       "      <td>0.037252</td>\n",
       "      <td>0.042627</td>\n",
       "      <td>0.037815</td>\n",
       "      <td>0.040463</td>\n",
       "      <td>0.068467</td>\n",
       "      <td>0.087108</td>\n",
       "      <td>0.074376</td>\n",
       "      <td>1.0</td>\n",
       "    </tr>\n",
       "  </tbody>\n",
       "</table>\n",
       "<p>5 rows × 3002 columns</p>\n",
       "</div>"
      ],
      "text/plain": [
       "   Unnamed: 0         0         1         2         3         4         5  \\\n",
       "0           0 -0.080000 -0.043293  0.069078  0.193214  0.174583  0.087142   \n",
       "1           1  0.040890  0.039615  0.040546  0.081605  0.121403  0.162758   \n",
       "2           2  0.080000  0.083538  0.103522  0.163530  0.153366  0.161573   \n",
       "3           3 -0.069611 -0.090384 -0.068066 -0.051914 -0.023335  0.070937   \n",
       "4           4  0.186489  0.252498  0.227937  0.252023  0.231094  0.312947   \n",
       "\n",
       "          6         7         8  ...      2991      2992      2993      2994  \\\n",
       "0  0.081191  0.049842  0.040916  ... -0.077333 -0.012389  0.046707  0.037176   \n",
       "1  0.201138  0.199434  0.200334  ... -0.043100 -0.035268 -0.115432 -0.122316   \n",
       "2  0.200171  0.319858  0.246203  ... -0.334404 -0.441841 -0.381637 -0.349058   \n",
       "3  0.095703  0.151044  0.174884  ... -0.030943 -0.050155  0.005165 -0.008122   \n",
       "4  0.302014  0.347908  0.268394  ...  0.037286  0.042754  0.037252  0.042627   \n",
       "\n",
       "       2995      2996      2997      2998      2999  3000  \n",
       "0  0.042090  0.036486 -0.005772 -0.041089 -0.040202   1.0  \n",
       "1 -0.081916 -0.078637 -0.081458 -0.078331 -0.081934   1.0  \n",
       "2 -0.207938 -0.218841 -0.064029 -0.283263 -0.219555   1.0  \n",
       "3  0.045458 -0.003261 -0.068483 -0.243170 -0.312281   1.0  \n",
       "4  0.037815  0.040463  0.068467  0.087108  0.074376   1.0  \n",
       "\n",
       "[5 rows x 3002 columns]"
      ]
     },
     "execution_count": 122,
     "metadata": {},
     "output_type": "execute_result"
    }
   ],
   "source": [
    "df_s1.head()"
   ]
  },
  {
   "cell_type": "code",
   "execution_count": 33,
   "metadata": {},
   "outputs": [],
   "source": [
    "select_classes = range(1, 21)\n",
    "# df = pd.concat([df_s1_128, df_s2_128])\n",
    "df_s1 = df_s1.loc[df_s1[df_s1.columns[-1]].isin(select_classes)]\n",
    "y = df_s1[df_s1.columns[-1]].values\n",
    "df_s1.drop([df_s1.columns[-1]], axis=1, inplace=True)\n",
    "X = df_s1.values"
   ]
  },
  {
   "cell_type": "code",
   "execution_count": 34,
   "metadata": {},
   "outputs": [
    {
     "data": {
      "text/plain": [
       "((120, 3001), (120,))"
      ]
     },
     "execution_count": 34,
     "metadata": {},
     "output_type": "execute_result"
    }
   ],
   "source": [
    "X.shape, y.shape"
   ]
  },
  {
   "cell_type": "code",
   "execution_count": 130,
   "metadata": {},
   "outputs": [],
   "source": [
    "X_train, X_test, y_train, y_test = train_test_split(X, y, test_size=0.2, random_state=0, shuffle=True)"
   ]
  },
  {
   "cell_type": "code",
   "execution_count": 131,
   "metadata": {},
   "outputs": [
    {
     "data": {
      "text/plain": [
       "((734, 3001), (184, 3001))"
      ]
     },
     "execution_count": 131,
     "metadata": {},
     "output_type": "execute_result"
    }
   ],
   "source": [
    "X_train.shape, X_test.shape"
   ]
  },
  {
   "cell_type": "code",
   "execution_count": 184,
   "metadata": {},
   "outputs": [],
   "source": [
    "df_s0 = pd.read_csv('full_session0.csv', sep='\\t')"
   ]
  },
  {
   "cell_type": "code",
   "execution_count": 185,
   "metadata": {},
   "outputs": [],
   "source": [
    "y = df_s0[df_s0.columns[-1]].values\n",
    "df_s0.drop([df_s0.columns[-1]], axis=1, inplace=True)\n",
    "X = df_s0.values"
   ]
  },
  {
   "cell_type": "code",
   "execution_count": 186,
   "metadata": {},
   "outputs": [],
   "source": [
    "s0_X_train, ss0_X_test, s0_y_train, s0_y_test = train_test_split(X, y, test_size=0.2, random_state=0, shuffle=True)"
   ]
  },
  {
   "cell_type": "code",
   "execution_count": 27,
   "metadata": {},
   "outputs": [],
   "source": [
    "from sklearn.manifold import TSNE\n",
    "tsne = TSNE(n_components=2, init='pca', random_state=0)\n",
    "X_2d = tsne.fit_transform(X)"
   ]
  },
  {
   "cell_type": "code",
   "execution_count": 49,
   "metadata": {},
   "outputs": [],
   "source": [
    "import matplotlib.pylab as pylab\n",
    "import matplotlib.pyplot as plt\n",
    "import matplotlib.cm as cm\n",
    "from matplotlib.ticker import StrMethodFormatter\n",
    "params = {'legend.fontsize': 'x-large',\n",
    "          'figure.figsize': (15, 12),\n",
    "          'axes.labelsize': 'x-large',\n",
    "          'axes.titlesize': 'x-large',\n",
    "          'xtick.labelsize': 'x-large',\n",
    "          'ytick.labelsize': 'x-large'}\n",
    "pylab.rcParams.update(params)"
   ]
  },
  {
   "cell_type": "code",
   "execution_count": 50,
   "metadata": {},
   "outputs": [
    {
     "data": {
      "image/png": "[encoded data removed]",
      "text/plain": [
       "<Figure size 1080x864 with 1 Axes>"
      ]
     },
     "metadata": {
      "needs_background": "light"
     },
     "output_type": "display_data"
    }
   ],
   "source": [
    "target_ids = np.unique(y)\n",
    "colors = cm.rainbow(np.linspace(0, 1, len(target_ids)))\n",
    "for i, c in zip(target_ids, colors):\n",
    "    plt.scatter(X_2d[y == i, 0], X_2d[y == i, 1], label=i, color=c)\n",
    "plt.legend()\n",
    "plt.show()"
   ]
  },
  {
   "cell_type": "markdown",
   "metadata": {},
   "source": [
    "## One-class SVM"
   ]
  },
  {
   "cell_type": "code",
   "execution_count": 125,
   "metadata": {},
   "outputs": [],
   "source": [
    "from sklearn import svm"
   ]
  },
  {
   "cell_type": "code",
   "execution_count": 190,
   "metadata": {},
   "outputs": [
    {
     "data": {
      "text/plain": [
       "OneClassSVM(cache_size=200, coef0=0.0, degree=3, gamma='auto', kernel='rbf',\n",
       "      max_iter=-1, nu=0.2, random_state=None, shrinking=True, tol=0.001,\n",
       "      verbose=False)"
      ]
     },
     "execution_count": 190,
     "metadata": {},
     "output_type": "execute_result"
    }
   ],
   "source": [
    "clf = svm.OneClassSVM(nu=0.2, kernel=\"rbf\", gamma='auto')\n",
    "clf.fit(X_train)"
   ]
  },
  {
   "cell_type": "code",
   "execution_count": 191,
   "metadata": {},
   "outputs": [],
   "source": [
    "train_pred = clf.predict(X_train)"
   ]
  },
  {
   "cell_type": "code",
   "execution_count": 192,
   "metadata": {},
   "outputs": [
    {
     "data": {
      "text/plain": [
       "'152/734'"
      ]
     },
     "execution_count": 192,
     "metadata": {},
     "output_type": "execute_result"
    }
   ],
   "source": [
    "str(np.count_nonzero(train_pred == -1)) + '/' + str(len(X_train))"
   ]
  },
  {
   "cell_type": "code",
   "execution_count": 193,
   "metadata": {},
   "outputs": [],
   "source": [
    "test_pred = clf.predict(X_test)"
   ]
  },
  {
   "cell_type": "code",
   "execution_count": 194,
   "metadata": {},
   "outputs": [
    {
     "data": {
      "text/plain": [
       "'67/184'"
      ]
     },
     "execution_count": 194,
     "metadata": {},
     "output_type": "execute_result"
    }
   ],
   "source": [
    "str(np.count_nonzero(test_pred == -1)) + '/' + str(len(X_test))"
   ]
  },
  {
   "cell_type": "code",
   "execution_count": 195,
   "metadata": {},
   "outputs": [],
   "source": [
    "s0_pred = clf.predict(X)"
   ]
  },
  {
   "cell_type": "code",
   "execution_count": 196,
   "metadata": {},
   "outputs": [
    {
     "data": {
      "text/plain": [
       "'38/132'"
      ]
     },
     "execution_count": 196,
     "metadata": {},
     "output_type": "execute_result"
    }
   ],
   "source": [
    "str(np.count_nonzero(s0_pred == -1)) + '/' + str(len(X))"
   ]
  },
  {
   "cell_type": "markdown",
   "metadata": {},
   "source": [
    "## USPS"
   ]
  },
  {
   "cell_type": "code",
   "execution_count": 197,
   "metadata": {},
   "outputs": [],
   "source": [
    "import h5py"
   ]
  },
  {
   "cell_type": "code",
   "execution_count": 198,
   "metadata": {},
   "outputs": [
    {
     "data": {
      "text/plain": [
       "((7291, 256), (7291,))"
      ]
     },
     "execution_count": 198,
     "metadata": {},
     "output_type": "execute_result"
    }
   ],
   "source": [
    "with h5py.File('../data/usps.h5', 'r') as hf:\n",
    "    train = hf.get('train')\n",
    "    X_train = train.get('data')[:]\n",
    "    y_train = train.get('target')[:]\n",
    "    test = hf.get('test')\n",
    "    X_test = test.get('data')[:]\n",
    "    y_test = test.get('target')[:]\n",
    "    \n",
    "X_train.shape, y_train.shape"
   ]
  },
  {
   "cell_type": "code",
   "execution_count": 205,
   "metadata": {},
   "outputs": [],
   "source": [
    "X = np.concatenate((X_train, X_test), axis=0)"
   ]
  },
  {
   "cell_type": "code",
   "execution_count": 206,
   "metadata": {},
   "outputs": [],
   "source": [
    "y = np.concatenate((y_train, y_test), axis=0)"
   ]
  },
  {
   "cell_type": "code",
   "execution_count": 207,
   "metadata": {},
   "outputs": [
    {
     "data": {
      "text/plain": [
       "OneClassSVM(cache_size=200, coef0=0.0, degree=3, gamma='auto', kernel='rbf',\n",
       "      max_iter=-1, nu=0.2, random_state=None, shrinking=True, tol=0.001,\n",
       "      verbose=False)"
      ]
     },
     "execution_count": 207,
     "metadata": {},
     "output_type": "execute_result"
    }
   ],
   "source": [
    "clf = svm.OneClassSVM(nu=0.2, kernel=\"rbf\", gamma='auto')\n",
    "clf.fit(X_train)"
   ]
  },
  {
   "cell_type": "code",
   "execution_count": null,
   "metadata": {},
   "outputs": [],
   "source": []
  }
 ],
 "metadata": {
  "kernelspec": {
   "display_name": "Python 3",
   "language": "python",
   "name": "python3"
  },
  "language_info": {
   "codemirror_mode": {
    "name": "ipython",
    "version": 3
   },
   "file_extension": ".py",
   "mimetype": "text/x-python",
   "name": "python",
   "nbconvert_exporter": "python",
   "pygments_lexer": "ipython3",
   "version": "3.7.3"
  }
 },
 "nbformat": 4,
 "nbformat_minor": 2
}
