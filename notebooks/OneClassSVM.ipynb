{
 "cells": [
  {
   "cell_type": "code",
   "execution_count": 1,
   "metadata": {},
   "outputs": [],
   "source": [
    "# https://scikit-learn.org/stable/auto_examples/svm/plot_oneclass.html\n",
    "# https://scikit-learn.org/stable/modules/outlier_detection.html#outlier-detection"
   ]
  },
  {
   "cell_type": "code",
   "execution_count": 2,
   "metadata": {},
   "outputs": [],
   "source": [
    "import pandas as pd\n",
    "import numpy as np\n",
    "from pathlib import Path\n",
    "from pprint import pprint\n",
    "from scipy import signal"
   ]
  },
  {
   "cell_type": "code",
   "execution_count": 3,
   "metadata": {},
   "outputs": [],
   "source": [
    "import matplotlib.pylab as pylab\n",
    "import matplotlib.pyplot as plt\n",
    "from matplotlib.ticker import StrMethodFormatter\n",
    "params = {'legend.fontsize': 'x-large',\n",
    "          'figure.figsize': (15, 5),\n",
    "          'axes.labelsize': 'x-large',\n",
    "          'axes.titlesize': 'x-large',\n",
    "          'xtick.labelsize': 'x-large',\n",
    "          'ytick.labelsize': 'x-large'}\n",
    "pylab.rcParams.update(params)"
   ]
  },
  {
   "cell_type": "markdown",
   "metadata": {},
   "source": [
    "## Preprocessing"
   ]
  },
  {
   "cell_type": "code",
   "execution_count": 7,
   "metadata": {},
   "outputs": [],
   "source": [
    "basePath = '../../zju-gaitacc/'\n",
    "LENGTH = 1000"
   ]
  },
  {
   "cell_type": "code",
   "execution_count": 9,
   "metadata": {
    "scrolled": false
   },
   "outputs": [],
   "source": [
    "def session_to_dataframe(session):\n",
    "    df = pd.DataFrame(columns=range(3 * LENGTH + 1))\n",
    "    \n",
    "    i = 0\n",
    "    for subj in Path(basePath + session).glob('subj_*'):\n",
    "        for rec in subj.glob('*'):\n",
    "            with open(rec.joinpath('3.txt')) as f:\n",
    "                # extract the relevant range\n",
    "                with open(rec.joinpath('useful.txt')) as use:\n",
    "                    begin_rec, end_rec = use.readline().split(',')\n",
    "\n",
    "                begin_rec = int(begin_rec)\n",
    "                end_rec = int(end_rec)\n",
    "\n",
    "                # read the content of the file\n",
    "                lines = list(map(lambda line: [float(x) for x in line.strip().split(',')], f.readlines()))\n",
    "\n",
    "                # select only relevant portion of the recording and resample it to fixed length\n",
    "                lines = list(map(lambda x: signal.resample(x[begin_rec:end_rec], LENGTH), lines))\n",
    "\n",
    "                # select label of measurement\n",
    "                label = int(subj.name.split('_')[1])\n",
    "\n",
    "                flat_list = [el for l in lines for el in l]\n",
    "                flat_list.append(label)\n",
    "                df.loc[i] = flat_list\n",
    "                i += 1\n",
    "                \n",
    "    return df"
   ]
  },
  {
   "cell_type": "code",
   "execution_count": 70,
   "metadata": {},
   "outputs": [],
   "source": [
    "RAW_PATH = 'data/raw/'\n",
    "\n",
    "def raw_to_dataframe(session):\n",
    "    def split_to_cycles(rec, lims):\n",
    "        return [rec[lims[idx]:lims[idx + 1]] for idx in range(0, len(lims) - 2)]\n",
    "\n",
    "    df = pd.DataFrame(columns=range(3 * 128 + 1))\n",
    "    print(Path(RAW_PATH + session))\n",
    "    print(list(Path(RAW_PATH + session).glob('subj_*')))\n",
    "    \n",
    "    i = 0\n",
    "    for subj in Path(basePath + session).glob('subj_*'):\n",
    "        print(subj)\n",
    "        for rec in subj.glob('*'):\n",
    "            with open(rec.joinpath('3.txt')) as f:\n",
    "                # read the content of the file\n",
    "                lines = list(map(lambda line: [float(x) for x in line.strip().split(',')], f.readlines()))\n",
    "\n",
    "                # select only relevant portion of the recording and generate cycles\n",
    "                cycles = range(128, len(lines[0]), 128)\n",
    "                lines = list(map(lambda x: split_to_cycles(x, cycles), lines))\n",
    "\n",
    "                # select label of measurement\n",
    "                label = int(subj.name.split('_')[1])\n",
    "\n",
    "                for cycle in range(len(lines[0])):\n",
    "                    l = []\n",
    "                    for line in range(len(lines)):\n",
    "                        l.extend(lines[line][cycle])\n",
    "                    l.append(label)\n",
    "                    df.loc[i] = l\n",
    "                    i += 1\n",
    "                    \n",
    "    return df"
   ]
  },
  {
   "cell_type": "code",
   "execution_count": 71,
   "metadata": {},
   "outputs": [
    {
     "name": "stdout",
     "output_type": "stream",
     "text": [
      "data/raw/session_0\n",
      "[]\n",
      "../../zju-gaitacc/session_0/subj_010\n",
      "../../zju-gaitacc/session_0/subj_012\n",
      "../../zju-gaitacc/session_0/subj_008\n",
      "../../zju-gaitacc/session_0/subj_006\n",
      "../../zju-gaitacc/session_0/subj_019\n",
      "../../zju-gaitacc/session_0/subj_014\n",
      "../../zju-gaitacc/session_0/subj_004\n",
      "../../zju-gaitacc/session_0/subj_009\n",
      "../../zju-gaitacc/session_0/subj_020\n",
      "../../zju-gaitacc/session_0/subj_017\n",
      "../../zju-gaitacc/session_0/subj_011\n",
      "../../zju-gaitacc/session_0/subj_005\n",
      "../../zju-gaitacc/session_0/subj_007\n",
      "../../zju-gaitacc/session_0/subj_018\n",
      "../../zju-gaitacc/session_0/subj_016\n",
      "../../zju-gaitacc/session_0/subj_002\n",
      "../../zju-gaitacc/session_0/subj_015\n",
      "../../zju-gaitacc/session_0/subj_001\n",
      "../../zju-gaitacc/session_0/subj_022\n",
      "../../zju-gaitacc/session_0/subj_003\n",
      "../../zju-gaitacc/session_0/subj_013\n",
      "../../zju-gaitacc/session_0/subj_021\n"
     ]
    },
    {
     "data": {
      "text/html": [
       "<div>\n",
       "<style scoped>\n",
       "    .dataframe tbody tr th:only-of-type {\n",
       "        vertical-align: middle;\n",
       "    }\n",
       "\n",
       "    .dataframe tbody tr th {\n",
       "        vertical-align: top;\n",
       "    }\n",
       "\n",
       "    .dataframe thead th {\n",
       "        text-align: right;\n",
       "    }\n",
       "</style>\n",
       "<table border=\"1\" class=\"dataframe\">\n",
       "  <thead>\n",
       "    <tr style=\"text-align: right;\">\n",
       "      <th></th>\n",
       "      <th>0</th>\n",
       "      <th>1</th>\n",
       "      <th>2</th>\n",
       "      <th>3</th>\n",
       "      <th>4</th>\n",
       "      <th>5</th>\n",
       "      <th>6</th>\n",
       "      <th>7</th>\n",
       "      <th>8</th>\n",
       "      <th>9</th>\n",
       "      <th>...</th>\n",
       "      <th>375</th>\n",
       "      <th>376</th>\n",
       "      <th>377</th>\n",
       "      <th>378</th>\n",
       "      <th>379</th>\n",
       "      <th>380</th>\n",
       "      <th>381</th>\n",
       "      <th>382</th>\n",
       "      <th>383</th>\n",
       "      <th>384</th>\n",
       "    </tr>\n",
       "  </thead>\n",
       "  <tbody>\n",
       "    <tr>\n",
       "      <th>0</th>\n",
       "      <td>0.20</td>\n",
       "      <td>0.24</td>\n",
       "      <td>0.24</td>\n",
       "      <td>0.32</td>\n",
       "      <td>0.40</td>\n",
       "      <td>0.40</td>\n",
       "      <td>0.36</td>\n",
       "      <td>0.32</td>\n",
       "      <td>0.32</td>\n",
       "      <td>0.24</td>\n",
       "      <td>...</td>\n",
       "      <td>-0.20</td>\n",
       "      <td>-0.20</td>\n",
       "      <td>-0.16</td>\n",
       "      <td>-0.08</td>\n",
       "      <td>-0.08</td>\n",
       "      <td>-0.08</td>\n",
       "      <td>-0.08</td>\n",
       "      <td>-0.04</td>\n",
       "      <td>-0.04</td>\n",
       "      <td>10.0</td>\n",
       "    </tr>\n",
       "    <tr>\n",
       "      <th>1</th>\n",
       "      <td>-0.04</td>\n",
       "      <td>-0.08</td>\n",
       "      <td>-0.12</td>\n",
       "      <td>-0.12</td>\n",
       "      <td>-0.12</td>\n",
       "      <td>-0.16</td>\n",
       "      <td>-0.16</td>\n",
       "      <td>-0.16</td>\n",
       "      <td>-0.16</td>\n",
       "      <td>-0.16</td>\n",
       "      <td>...</td>\n",
       "      <td>-0.16</td>\n",
       "      <td>-0.04</td>\n",
       "      <td>0.44</td>\n",
       "      <td>0.44</td>\n",
       "      <td>0.44</td>\n",
       "      <td>0.44</td>\n",
       "      <td>0.44</td>\n",
       "      <td>0.04</td>\n",
       "      <td>-0.16</td>\n",
       "      <td>10.0</td>\n",
       "    </tr>\n",
       "    <tr>\n",
       "      <th>2</th>\n",
       "      <td>0.08</td>\n",
       "      <td>0.12</td>\n",
       "      <td>0.16</td>\n",
       "      <td>0.16</td>\n",
       "      <td>0.16</td>\n",
       "      <td>0.12</td>\n",
       "      <td>0.08</td>\n",
       "      <td>0.04</td>\n",
       "      <td>-0.04</td>\n",
       "      <td>-0.12</td>\n",
       "      <td>...</td>\n",
       "      <td>-0.24</td>\n",
       "      <td>-0.24</td>\n",
       "      <td>-0.24</td>\n",
       "      <td>-0.28</td>\n",
       "      <td>-0.24</td>\n",
       "      <td>-0.24</td>\n",
       "      <td>-0.16</td>\n",
       "      <td>-0.16</td>\n",
       "      <td>-0.20</td>\n",
       "      <td>10.0</td>\n",
       "    </tr>\n",
       "    <tr>\n",
       "      <th>3</th>\n",
       "      <td>0.04</td>\n",
       "      <td>0.04</td>\n",
       "      <td>-0.28</td>\n",
       "      <td>-0.28</td>\n",
       "      <td>-0.32</td>\n",
       "      <td>0.00</td>\n",
       "      <td>0.00</td>\n",
       "      <td>-0.04</td>\n",
       "      <td>-0.04</td>\n",
       "      <td>-0.12</td>\n",
       "      <td>...</td>\n",
       "      <td>-0.04</td>\n",
       "      <td>-0.08</td>\n",
       "      <td>-0.12</td>\n",
       "      <td>-0.20</td>\n",
       "      <td>-0.20</td>\n",
       "      <td>-0.28</td>\n",
       "      <td>-0.28</td>\n",
       "      <td>-0.48</td>\n",
       "      <td>-0.52</td>\n",
       "      <td>10.0</td>\n",
       "    </tr>\n",
       "    <tr>\n",
       "      <th>4</th>\n",
       "      <td>0.00</td>\n",
       "      <td>0.08</td>\n",
       "      <td>0.08</td>\n",
       "      <td>0.08</td>\n",
       "      <td>0.00</td>\n",
       "      <td>-0.08</td>\n",
       "      <td>-0.20</td>\n",
       "      <td>-0.16</td>\n",
       "      <td>-0.04</td>\n",
       "      <td>-0.04</td>\n",
       "      <td>...</td>\n",
       "      <td>0.04</td>\n",
       "      <td>0.04</td>\n",
       "      <td>0.04</td>\n",
       "      <td>0.04</td>\n",
       "      <td>0.04</td>\n",
       "      <td>0.04</td>\n",
       "      <td>0.04</td>\n",
       "      <td>0.04</td>\n",
       "      <td>0.00</td>\n",
       "      <td>10.0</td>\n",
       "    </tr>\n",
       "  </tbody>\n",
       "</table>\n",
       "<p>5 rows × 385 columns</p>\n",
       "</div>"
      ],
      "text/plain": [
       "    0     1     2     3     4     5     6     7     8     9    ...   375  \\\n",
       "0  0.20  0.24  0.24  0.32  0.40  0.40  0.36  0.32  0.32  0.24  ... -0.20   \n",
       "1 -0.04 -0.08 -0.12 -0.12 -0.12 -0.16 -0.16 -0.16 -0.16 -0.16  ... -0.16   \n",
       "2  0.08  0.12  0.16  0.16  0.16  0.12  0.08  0.04 -0.04 -0.12  ... -0.24   \n",
       "3  0.04  0.04 -0.28 -0.28 -0.32  0.00  0.00 -0.04 -0.04 -0.12  ... -0.04   \n",
       "4  0.00  0.08  0.08  0.08  0.00 -0.08 -0.20 -0.16 -0.04 -0.04  ...  0.04   \n",
       "\n",
       "    376   377   378   379   380   381   382   383   384  \n",
       "0 -0.20 -0.16 -0.08 -0.08 -0.08 -0.08 -0.04 -0.04  10.0  \n",
       "1 -0.04  0.44  0.44  0.44  0.44  0.44  0.04 -0.16  10.0  \n",
       "2 -0.24 -0.24 -0.28 -0.24 -0.24 -0.16 -0.16 -0.20  10.0  \n",
       "3 -0.08 -0.12 -0.20 -0.20 -0.28 -0.28 -0.48 -0.52  10.0  \n",
       "4  0.04  0.04  0.04  0.04  0.04  0.04  0.04  0.00  10.0  \n",
       "\n",
       "[5 rows x 385 columns]"
      ]
     },
     "execution_count": 71,
     "metadata": {},
     "output_type": "execute_result"
    }
   ],
   "source": [
    "df_s0 = raw_to_dataframe('session_0')\n",
    "df_s0.head()"
   ]
  },
  {
   "cell_type": "code",
   "execution_count": 53,
   "metadata": {},
   "outputs": [
    {
     "data": {
      "text/html": [
       "<div>\n",
       "<style scoped>\n",
       "    .dataframe tbody tr th:only-of-type {\n",
       "        vertical-align: middle;\n",
       "    }\n",
       "\n",
       "    .dataframe tbody tr th {\n",
       "        vertical-align: top;\n",
       "    }\n",
       "\n",
       "    .dataframe thead th {\n",
       "        text-align: right;\n",
       "    }\n",
       "</style>\n",
       "<table border=\"1\" class=\"dataframe\">\n",
       "  <thead>\n",
       "    <tr style=\"text-align: right;\">\n",
       "      <th></th>\n",
       "      <th>0</th>\n",
       "      <th>1</th>\n",
       "      <th>2</th>\n",
       "      <th>3</th>\n",
       "      <th>4</th>\n",
       "      <th>5</th>\n",
       "      <th>6</th>\n",
       "      <th>7</th>\n",
       "      <th>8</th>\n",
       "      <th>9</th>\n",
       "      <th>...</th>\n",
       "      <th>375</th>\n",
       "      <th>376</th>\n",
       "      <th>377</th>\n",
       "      <th>378</th>\n",
       "      <th>379</th>\n",
       "      <th>380</th>\n",
       "      <th>381</th>\n",
       "      <th>382</th>\n",
       "      <th>383</th>\n",
       "      <th>384</th>\n",
       "    </tr>\n",
       "  </thead>\n",
       "  <tbody>\n",
       "    <tr>\n",
       "      <th>count</th>\n",
       "      <td>1117.000000</td>\n",
       "      <td>1117.000000</td>\n",
       "      <td>1117.000000</td>\n",
       "      <td>1117.000000</td>\n",
       "      <td>1117.000000</td>\n",
       "      <td>1117.000000</td>\n",
       "      <td>1117.000000</td>\n",
       "      <td>1117.000000</td>\n",
       "      <td>1117.000000</td>\n",
       "      <td>1117.000000</td>\n",
       "      <td>...</td>\n",
       "      <td>1117.000000</td>\n",
       "      <td>1117.000000</td>\n",
       "      <td>1117.000000</td>\n",
       "      <td>1117.000000</td>\n",
       "      <td>1117.000000</td>\n",
       "      <td>1117.000000</td>\n",
       "      <td>1117.000000</td>\n",
       "      <td>1117.000000</td>\n",
       "      <td>1117.000000</td>\n",
       "      <td>1117.000000</td>\n",
       "    </tr>\n",
       "    <tr>\n",
       "      <th>mean</th>\n",
       "      <td>0.013648</td>\n",
       "      <td>0.012968</td>\n",
       "      <td>0.009466</td>\n",
       "      <td>0.007317</td>\n",
       "      <td>0.007320</td>\n",
       "      <td>0.007490</td>\n",
       "      <td>0.012825</td>\n",
       "      <td>0.011368</td>\n",
       "      <td>0.014023</td>\n",
       "      <td>0.012462</td>\n",
       "      <td>...</td>\n",
       "      <td>-0.131519</td>\n",
       "      <td>-0.132174</td>\n",
       "      <td>-0.134988</td>\n",
       "      <td>-0.132474</td>\n",
       "      <td>-0.129105</td>\n",
       "      <td>-0.126783</td>\n",
       "      <td>-0.129273</td>\n",
       "      <td>-0.129048</td>\n",
       "      <td>-0.131080</td>\n",
       "      <td>11.625783</td>\n",
       "    </tr>\n",
       "    <tr>\n",
       "      <th>std</th>\n",
       "      <td>0.263504</td>\n",
       "      <td>0.264223</td>\n",
       "      <td>0.268276</td>\n",
       "      <td>0.268199</td>\n",
       "      <td>0.266659</td>\n",
       "      <td>0.262062</td>\n",
       "      <td>0.260868</td>\n",
       "      <td>0.260832</td>\n",
       "      <td>0.256726</td>\n",
       "      <td>0.253932</td>\n",
       "      <td>...</td>\n",
       "      <td>0.240577</td>\n",
       "      <td>0.237431</td>\n",
       "      <td>0.238440</td>\n",
       "      <td>0.242895</td>\n",
       "      <td>0.243835</td>\n",
       "      <td>0.241672</td>\n",
       "      <td>0.241819</td>\n",
       "      <td>0.236346</td>\n",
       "      <td>0.236801</td>\n",
       "      <td>6.591483</td>\n",
       "    </tr>\n",
       "    <tr>\n",
       "      <th>min</th>\n",
       "      <td>-1.240000</td>\n",
       "      <td>-1.160000</td>\n",
       "      <td>-1.040000</td>\n",
       "      <td>-1.280000</td>\n",
       "      <td>-1.200000</td>\n",
       "      <td>-1.200000</td>\n",
       "      <td>-1.080000</td>\n",
       "      <td>-1.120000</td>\n",
       "      <td>-1.040000</td>\n",
       "      <td>-1.080000</td>\n",
       "      <td>...</td>\n",
       "      <td>-1.200000</td>\n",
       "      <td>-1.000000</td>\n",
       "      <td>-1.000000</td>\n",
       "      <td>-1.040000</td>\n",
       "      <td>-1.000000</td>\n",
       "      <td>-1.000000</td>\n",
       "      <td>-1.000000</td>\n",
       "      <td>-0.960000</td>\n",
       "      <td>-0.960000</td>\n",
       "      <td>1.000000</td>\n",
       "    </tr>\n",
       "    <tr>\n",
       "      <th>25%</th>\n",
       "      <td>-0.160000</td>\n",
       "      <td>-0.160000</td>\n",
       "      <td>-0.160000</td>\n",
       "      <td>-0.160000</td>\n",
       "      <td>-0.160000</td>\n",
       "      <td>-0.160000</td>\n",
       "      <td>-0.160000</td>\n",
       "      <td>-0.125000</td>\n",
       "      <td>-0.120000</td>\n",
       "      <td>-0.125000</td>\n",
       "      <td>...</td>\n",
       "      <td>-0.240000</td>\n",
       "      <td>-0.250000</td>\n",
       "      <td>-0.280000</td>\n",
       "      <td>-0.250000</td>\n",
       "      <td>-0.250000</td>\n",
       "      <td>-0.240000</td>\n",
       "      <td>-0.240000</td>\n",
       "      <td>-0.240000</td>\n",
       "      <td>-0.250000</td>\n",
       "      <td>5.000000</td>\n",
       "    </tr>\n",
       "    <tr>\n",
       "      <th>50%</th>\n",
       "      <td>0.000000</td>\n",
       "      <td>0.000000</td>\n",
       "      <td>0.000000</td>\n",
       "      <td>0.000000</td>\n",
       "      <td>0.000000</td>\n",
       "      <td>0.000000</td>\n",
       "      <td>0.000000</td>\n",
       "      <td>0.000000</td>\n",
       "      <td>0.000000</td>\n",
       "      <td>0.000000</td>\n",
       "      <td>...</td>\n",
       "      <td>-0.120000</td>\n",
       "      <td>-0.120000</td>\n",
       "      <td>-0.120000</td>\n",
       "      <td>-0.120000</td>\n",
       "      <td>-0.120000</td>\n",
       "      <td>-0.120000</td>\n",
       "      <td>-0.120000</td>\n",
       "      <td>-0.120000</td>\n",
       "      <td>-0.120000</td>\n",
       "      <td>12.000000</td>\n",
       "    </tr>\n",
       "    <tr>\n",
       "      <th>75%</th>\n",
       "      <td>0.160000</td>\n",
       "      <td>0.160000</td>\n",
       "      <td>0.160000</td>\n",
       "      <td>0.160000</td>\n",
       "      <td>0.160000</td>\n",
       "      <td>0.160000</td>\n",
       "      <td>0.160000</td>\n",
       "      <td>0.160000</td>\n",
       "      <td>0.160000</td>\n",
       "      <td>0.160000</td>\n",
       "      <td>...</td>\n",
       "      <td>0.000000</td>\n",
       "      <td>0.000000</td>\n",
       "      <td>0.000000</td>\n",
       "      <td>0.000000</td>\n",
       "      <td>0.000000</td>\n",
       "      <td>0.000000</td>\n",
       "      <td>0.000000</td>\n",
       "      <td>0.000000</td>\n",
       "      <td>0.000000</td>\n",
       "      <td>18.000000</td>\n",
       "    </tr>\n",
       "    <tr>\n",
       "      <th>max</th>\n",
       "      <td>1.040000</td>\n",
       "      <td>1.040000</td>\n",
       "      <td>1.040000</td>\n",
       "      <td>1.040000</td>\n",
       "      <td>1.040000</td>\n",
       "      <td>1.000000</td>\n",
       "      <td>1.000000</td>\n",
       "      <td>1.000000</td>\n",
       "      <td>1.000000</td>\n",
       "      <td>1.040000</td>\n",
       "      <td>...</td>\n",
       "      <td>0.750000</td>\n",
       "      <td>0.791667</td>\n",
       "      <td>0.750000</td>\n",
       "      <td>0.750000</td>\n",
       "      <td>0.708333</td>\n",
       "      <td>0.640000</td>\n",
       "      <td>0.708333</td>\n",
       "      <td>0.750000</td>\n",
       "      <td>0.875000</td>\n",
       "      <td>22.000000</td>\n",
       "    </tr>\n",
       "  </tbody>\n",
       "</table>\n",
       "<p>8 rows × 385 columns</p>\n",
       "</div>"
      ],
      "text/plain": [
       "               0            1            2            3            4    \\\n",
       "count  1117.000000  1117.000000  1117.000000  1117.000000  1117.000000   \n",
       "mean      0.013648     0.012968     0.009466     0.007317     0.007320   \n",
       "std       0.263504     0.264223     0.268276     0.268199     0.266659   \n",
       "min      -1.240000    -1.160000    -1.040000    -1.280000    -1.200000   \n",
       "25%      -0.160000    -0.160000    -0.160000    -0.160000    -0.160000   \n",
       "50%       0.000000     0.000000     0.000000     0.000000     0.000000   \n",
       "75%       0.160000     0.160000     0.160000     0.160000     0.160000   \n",
       "max       1.040000     1.040000     1.040000     1.040000     1.040000   \n",
       "\n",
       "               5            6            7            8            9    ...  \\\n",
       "count  1117.000000  1117.000000  1117.000000  1117.000000  1117.000000  ...   \n",
       "mean      0.007490     0.012825     0.011368     0.014023     0.012462  ...   \n",
       "std       0.262062     0.260868     0.260832     0.256726     0.253932  ...   \n",
       "min      -1.200000    -1.080000    -1.120000    -1.040000    -1.080000  ...   \n",
       "25%      -0.160000    -0.160000    -0.125000    -0.120000    -0.125000  ...   \n",
       "50%       0.000000     0.000000     0.000000     0.000000     0.000000  ...   \n",
       "75%       0.160000     0.160000     0.160000     0.160000     0.160000  ...   \n",
       "max       1.000000     1.000000     1.000000     1.000000     1.040000  ...   \n",
       "\n",
       "               375          376          377          378          379  \\\n",
       "count  1117.000000  1117.000000  1117.000000  1117.000000  1117.000000   \n",
       "mean     -0.131519    -0.132174    -0.134988    -0.132474    -0.129105   \n",
       "std       0.240577     0.237431     0.238440     0.242895     0.243835   \n",
       "min      -1.200000    -1.000000    -1.000000    -1.040000    -1.000000   \n",
       "25%      -0.240000    -0.250000    -0.280000    -0.250000    -0.250000   \n",
       "50%      -0.120000    -0.120000    -0.120000    -0.120000    -0.120000   \n",
       "75%       0.000000     0.000000     0.000000     0.000000     0.000000   \n",
       "max       0.750000     0.791667     0.750000     0.750000     0.708333   \n",
       "\n",
       "               380          381          382          383          384  \n",
       "count  1117.000000  1117.000000  1117.000000  1117.000000  1117.000000  \n",
       "mean     -0.126783    -0.129273    -0.129048    -0.131080    11.625783  \n",
       "std       0.241672     0.241819     0.236346     0.236801     6.591483  \n",
       "min      -1.000000    -1.000000    -0.960000    -0.960000     1.000000  \n",
       "25%      -0.240000    -0.240000    -0.240000    -0.250000     5.000000  \n",
       "50%      -0.120000    -0.120000    -0.120000    -0.120000    12.000000  \n",
       "75%       0.000000     0.000000     0.000000     0.000000    18.000000  \n",
       "max       0.640000     0.708333     0.750000     0.875000    22.000000  \n",
       "\n",
       "[8 rows x 385 columns]"
      ]
     },
     "execution_count": 53,
     "metadata": {},
     "output_type": "execute_result"
    }
   ],
   "source": [
    "df_s0.describe()"
   ]
  },
  {
   "cell_type": "code",
   "execution_count": 10,
   "metadata": {},
   "outputs": [
    {
     "ename": "NameError",
     "evalue": "name 'df' is not defined",
     "output_type": "error",
     "traceback": [
      "\u001b[0;31m---------------------------------------------------------------------------\u001b[0m",
      "\u001b[0;31mNameError\u001b[0m                                 Traceback (most recent call last)",
      "\u001b[0;32m<ipython-input-10-25eba1d14b69>\u001b[0m in \u001b[0;36m<module>\u001b[0;34m\u001b[0m\n\u001b[0;32m----> 1\u001b[0;31m \u001b[0mdf\u001b[0m\u001b[0;34m.\u001b[0m\u001b[0mto_csv\u001b[0m\u001b[0;34m(\u001b[0m\u001b[0;34m'full_rec.csv'\u001b[0m\u001b[0;34m,\u001b[0m \u001b[0msep\u001b[0m\u001b[0;34m=\u001b[0m\u001b[0;34m'\\t'\u001b[0m\u001b[0;34m,\u001b[0m \u001b[0mencoding\u001b[0m\u001b[0;34m=\u001b[0m\u001b[0;34m'utf-8'\u001b[0m\u001b[0;34m)\u001b[0m\u001b[0;34m\u001b[0m\u001b[0;34m\u001b[0m\u001b[0m\n\u001b[0m",
      "\u001b[0;31mNameError\u001b[0m: name 'df' is not defined"
     ]
    }
   ],
   "source": [
    "df.to_csv('full_rec.csv', sep='\\t', encoding='utf-8')"
   ]
  },
  {
   "cell_type": "code",
   "execution_count": 11,
   "metadata": {},
   "outputs": [
    {
     "data": {
      "text/html": [
       "<div>\n",
       "<style scoped>\n",
       "    .dataframe tbody tr th:only-of-type {\n",
       "        vertical-align: middle;\n",
       "    }\n",
       "\n",
       "    .dataframe tbody tr th {\n",
       "        vertical-align: top;\n",
       "    }\n",
       "\n",
       "    .dataframe thead th {\n",
       "        text-align: right;\n",
       "    }\n",
       "</style>\n",
       "<table border=\"1\" class=\"dataframe\">\n",
       "  <thead>\n",
       "    <tr style=\"text-align: right;\">\n",
       "      <th></th>\n",
       "      <th>0</th>\n",
       "      <th>1</th>\n",
       "      <th>2</th>\n",
       "      <th>3</th>\n",
       "      <th>4</th>\n",
       "      <th>5</th>\n",
       "      <th>6</th>\n",
       "      <th>7</th>\n",
       "      <th>8</th>\n",
       "      <th>9</th>\n",
       "      <th>...</th>\n",
       "      <th>2991</th>\n",
       "      <th>2992</th>\n",
       "      <th>2993</th>\n",
       "      <th>2994</th>\n",
       "      <th>2995</th>\n",
       "      <th>2996</th>\n",
       "      <th>2997</th>\n",
       "      <th>2998</th>\n",
       "      <th>2999</th>\n",
       "      <th>3000</th>\n",
       "    </tr>\n",
       "  </thead>\n",
       "  <tbody>\n",
       "  </tbody>\n",
       "</table>\n",
       "<p>0 rows × 3001 columns</p>\n",
       "</div>"
      ],
      "text/plain": [
       "Empty DataFrame\n",
       "Columns: [0, 1, 2, 3, 4, 5, 6, 7, 8, 9, 10, 11, 12, 13, 14, 15, 16, 17, 18, 19, 20, 21, 22, 23, 24, 25, 26, 27, 28, 29, 30, 31, 32, 33, 34, 35, 36, 37, 38, 39, 40, 41, 42, 43, 44, 45, 46, 47, 48, 49, 50, 51, 52, 53, 54, 55, 56, 57, 58, 59, 60, 61, 62, 63, 64, 65, 66, 67, 68, 69, 70, 71, 72, 73, 74, 75, 76, 77, 78, 79, 80, 81, 82, 83, 84, 85, 86, 87, 88, 89, 90, 91, 92, 93, 94, 95, 96, 97, 98, 99, ...]\n",
       "Index: []\n",
       "\n",
       "[0 rows x 3001 columns]"
      ]
     },
     "execution_count": 11,
     "metadata": {},
     "output_type": "execute_result"
    }
   ],
   "source": [
    "df_s0 = session_to_dataframe('session_0')\n",
    "df_s0.head()"
   ]
  },
  {
   "cell_type": "code",
   "execution_count": 12,
   "metadata": {},
   "outputs": [
    {
     "data": {
      "text/plain": [
       "(0, 3001)"
      ]
     },
     "execution_count": 12,
     "metadata": {},
     "output_type": "execute_result"
    }
   ],
   "source": [
    "df_s0.shape"
   ]
  },
  {
   "cell_type": "code",
   "execution_count": null,
   "metadata": {},
   "outputs": [],
   "source": [
    "df_s1 = session_to_dataframe('session_1')\n",
    "df_s1.head()"
   ]
  },
  {
   "cell_type": "code",
   "execution_count": null,
   "metadata": {},
   "outputs": [],
   "source": [
    "df_s1.shape"
   ]
  },
  {
   "cell_type": "code",
   "execution_count": null,
   "metadata": {},
   "outputs": [],
   "source": [
    "df_s1.to_csv('full_session1.csv', sep='\\t', encoding='utf-8')"
   ]
  },
  {
   "cell_type": "markdown",
   "metadata": {},
   "source": [
    "## Data loading"
   ]
  },
  {
   "cell_type": "code",
   "execution_count": null,
   "metadata": {},
   "outputs": [],
   "source": [
    "from sklearn.model_selection import train_test_split"
   ]
  },
  {
   "cell_type": "code",
   "execution_count": null,
   "metadata": {},
   "outputs": [],
   "source": [
    "df_s1 = pd.read_csv('full_session1.csv', sep='\\t')"
   ]
  },
  {
   "cell_type": "code",
   "execution_count": null,
   "metadata": {},
   "outputs": [],
   "source": [
    "df_s1.shape"
   ]
  },
  {
   "cell_type": "code",
   "execution_count": null,
   "metadata": {},
   "outputs": [],
   "source": [
    "df_s1.head()"
   ]
  },
  {
   "cell_type": "code",
   "execution_count": null,
   "metadata": {},
   "outputs": [],
   "source": [
    "select_classes = range(1, 21)\n",
    "# df = pd.concat([df_s1_128, df_s2_128])\n",
    "df_s1 = df_s1.loc[df_s1[df_s1.columns[-1]].isin(select_classes)]\n",
    "y = df_s1[df_s1.columns[-1]].values\n",
    "df_s1.drop([df_s1.columns[-1]], axis=1, inplace=True)\n",
    "X = df_s1.values"
   ]
  },
  {
   "cell_type": "code",
   "execution_count": null,
   "metadata": {},
   "outputs": [],
   "source": [
    "X.shape, y.shape"
   ]
  },
  {
   "cell_type": "code",
   "execution_count": null,
   "metadata": {},
   "outputs": [],
   "source": [
    "X_train, X_test, y_train, y_test = train_test_split(X, y, test_size=0.2, random_state=0, shuffle=True)"
   ]
  },
  {
   "cell_type": "code",
   "execution_count": null,
   "metadata": {},
   "outputs": [],
   "source": [
    "X_train.shape, X_test.shape"
   ]
  },
  {
   "cell_type": "code",
   "execution_count": null,
   "metadata": {},
   "outputs": [],
   "source": [
    "df_s0 = pd.read_csv('full_session0.csv', sep='\\t')"
   ]
  },
  {
   "cell_type": "code",
   "execution_count": null,
   "metadata": {},
   "outputs": [],
   "source": [
    "y = df_s0[df_s0.columns[-1]].values\n",
    "df_s0.drop([df_s0.columns[-1]], axis=1, inplace=True)\n",
    "X = df_s0.values"
   ]
  },
  {
   "cell_type": "code",
   "execution_count": null,
   "metadata": {},
   "outputs": [],
   "source": [
    "s0_X_train, ss0_X_test, s0_y_train, s0_y_test = train_test_split(X, y, test_size=0.2, random_state=0, shuffle=True)"
   ]
  },
  {
   "cell_type": "code",
   "execution_count": null,
   "metadata": {},
   "outputs": [],
   "source": [
    "from sklearn.manifold import TSNE\n",
    "tsne = TSNE(n_components=2, init='pca', random_state=0)\n",
    "X_2d = tsne.fit_transform(X)"
   ]
  },
  {
   "cell_type": "code",
   "execution_count": null,
   "metadata": {},
   "outputs": [],
   "source": [
    "import matplotlib.pylab as pylab\n",
    "import matplotlib.pyplot as plt\n",
    "import matplotlib.cm as cm\n",
    "from matplotlib.ticker import StrMethodFormatter\n",
    "params = {'legend.fontsize': 'x-large',\n",
    "          'figure.figsize': (15, 12),\n",
    "          'axes.labelsize': 'x-large',\n",
    "          'axes.titlesize': 'x-large',\n",
    "          'xtick.labelsize': 'x-large',\n",
    "          'ytick.labelsize': 'x-large'}\n",
    "pylab.rcParams.update(params)"
   ]
  },
  {
   "cell_type": "code",
   "execution_count": null,
   "metadata": {},
   "outputs": [],
   "source": [
    "data = np.concatenate((X_2d, y.reshape(y.shape[0], 1)), axis=1)\n",
    "viz_df = pd.DataFrame(data=data, columns=['x', 'y', 'class'])"
   ]
  },
  {
   "cell_type": "code",
   "execution_count": null,
   "metadata": {},
   "outputs": [],
   "source": [
    "import seaborn as sns\n",
    "fg = sns.FacetGrid(data=viz_df, hue='class', hue_order=np.unique(y), aspect=1.5, height=10)\n",
    "fg.map(plt.scatter, 'x', 'y').add_legend()"
   ]
  },
  {
   "cell_type": "code",
   "execution_count": null,
   "metadata": {},
   "outputs": [],
   "source": [
    "target_ids = np.unique(y)\n",
    "colors = cm.rainbow(np.linspace(0, 1, len(target_ids)))\n",
    "for i, c in zip(target_ids, colors):\n",
    "    plt.scatter(X_2d[y == i, 0], X_2d[y == i, 1], label=i, color=c)\n",
    "plt.legend()\n",
    "plt.show()"
   ]
  },
  {
   "cell_type": "markdown",
   "metadata": {},
   "source": [
    "## One-class SVM"
   ]
  },
  {
   "cell_type": "code",
   "execution_count": null,
   "metadata": {},
   "outputs": [],
   "source": [
    "from sklearn import svm"
   ]
  },
  {
   "cell_type": "code",
   "execution_count": null,
   "metadata": {},
   "outputs": [],
   "source": [
    "clf = svm.OneClassSVM(nu=0.2, kernel=\"rbf\", gamma='auto')\n",
    "clf.fit(X_train)"
   ]
  },
  {
   "cell_type": "code",
   "execution_count": null,
   "metadata": {},
   "outputs": [],
   "source": [
    "train_pred = clf.predict(X_train)"
   ]
  },
  {
   "cell_type": "code",
   "execution_count": null,
   "metadata": {},
   "outputs": [],
   "source": [
    "str(np.count_nonzero(train_pred == -1)) + '/' + str(len(X_train))"
   ]
  },
  {
   "cell_type": "code",
   "execution_count": null,
   "metadata": {},
   "outputs": [],
   "source": [
    "test_pred = clf.predict(X_test)"
   ]
  },
  {
   "cell_type": "code",
   "execution_count": null,
   "metadata": {},
   "outputs": [],
   "source": [
    "str(np.count_nonzero(test_pred == -1)) + '/' + str(len(X_test))"
   ]
  },
  {
   "cell_type": "code",
   "execution_count": null,
   "metadata": {},
   "outputs": [],
   "source": [
    "s0_pred = clf.predict(X)"
   ]
  },
  {
   "cell_type": "code",
   "execution_count": null,
   "metadata": {},
   "outputs": [],
   "source": [
    "str(np.count_nonzero(s0_pred == -1)) + '/' + str(len(X))"
   ]
  },
  {
   "cell_type": "markdown",
   "metadata": {},
   "source": [
    "## USPS"
   ]
  },
  {
   "cell_type": "code",
   "execution_count": null,
   "metadata": {},
   "outputs": [],
   "source": [
    "import h5py"
   ]
  },
  {
   "cell_type": "code",
   "execution_count": null,
   "metadata": {},
   "outputs": [],
   "source": [
    "with h5py.File('../data/usps.h5', 'r') as hf:\n",
    "    train = hf.get('train')\n",
    "    X_train = train.get('data')[:]\n",
    "    y_train = train.get('target')[:]\n",
    "    test = hf.get('test')\n",
    "    X_test = test.get('data')[:]\n",
    "    y_test = test.get('target')[:]\n",
    "    \n",
    "X_train.shape, y_train.shape"
   ]
  },
  {
   "cell_type": "code",
   "execution_count": null,
   "metadata": {},
   "outputs": [],
   "source": [
    "X = np.concatenate((X_train, X_test), axis=0)"
   ]
  },
  {
   "cell_type": "code",
   "execution_count": null,
   "metadata": {},
   "outputs": [],
   "source": [
    "y = np.concatenate((y_train, y_test), axis=0)"
   ]
  },
  {
   "cell_type": "code",
   "execution_count": null,
   "metadata": {},
   "outputs": [],
   "source": [
    "clf = svm.OneClassSVM(nu=0.2, kernel=\"rbf\", gamma='auto')\n",
    "clf.fit(X_train)"
   ]
  },
  {
   "cell_type": "code",
   "execution_count": null,
   "metadata": {},
   "outputs": [],
   "source": []
  }
 ],
 "metadata": {
  "kernelspec": {
   "display_name": "Python 3",
   "language": "python",
   "name": "python3"
  },
  "language_info": {
   "codemirror_mode": {
    "name": "ipython",
    "version": 3
   },
   "file_extension": ".py",
   "mimetype": "text/x-python",
   "name": "python",
   "nbconvert_exporter": "python",
   "pygments_lexer": "ipython3",
   "version": "3.6.8"
  }
 },
 "nbformat": 4,
 "nbformat_minor": 2
}
