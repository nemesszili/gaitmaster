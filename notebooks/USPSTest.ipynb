{
 "cells": [
  {
   "cell_type": "code",
   "execution_count": null,
   "metadata": {},
   "outputs": [],
   "source": [
    "# CODE:\n",
    "# https://scikit-learn.org/stable/modules/grid_search.html#grid-search\n",
    "# https://github.com/skorch-dev/skorch/issues/451\n",
    "# https://tomaugspurger.github.io <- check"
   ]
  },
  {
   "cell_type": "code",
   "execution_count": null,
   "metadata": {},
   "outputs": [],
   "source": [
    "import h5py\n",
    "import numpy as np\n",
    "import pandas as pd\n",
    "from pathlib import Path\n",
    "\n",
    "import torch\n",
    "import torch.nn as nn\n",
    "import torch.nn.functional as F\n",
    "from torch.autograd import Variable\n",
    "from torch.utils.data import Dataset, DataLoader\n",
    "from torch.utils.data.sampler import SubsetRandomSampler\n",
    "\n",
    "from tensorboardX import SummaryWriter\n",
    "\n",
    "from sklearn.preprocessing import LabelEncoder"
   ]
  },
  {
   "cell_type": "code",
   "execution_count": null,
   "metadata": {},
   "outputs": [],
   "source": [
    "import matplotlib.pylab as pylab\n",
    "import matplotlib.pyplot as plt\n",
    "from matplotlib.ticker import StrMethodFormatter\n",
    "params = {'legend.fontsize': 'x-large',\n",
    "          'figure.figsize': (15, 5),\n",
    "          'axes.labelsize': 'x-large',\n",
    "          'axes.titlesize': 'x-large',\n",
    "          'xtick.labelsize': 'x-large',\n",
    "          'ytick.labelsize': 'x-large'}\n",
    "pylab.rcParams.update(params)"
   ]
  },
  {
   "cell_type": "markdown",
   "metadata": {},
   "source": [
    "## Explore"
   ]
  },
  {
   "cell_type": "code",
   "execution_count": null,
   "metadata": {},
   "outputs": [],
   "source": [
    "with h5py.File('../data/usps.h5', 'r') as hf:\n",
    "    train = hf.get('train')\n",
    "    X_train = train.get('data')[:]\n",
    "    y_train = train.get('target')[:]\n",
    "    test = hf.get('test')\n",
    "    X_test = test.get('data')[:]\n",
    "    y_test = test.get('target')[:]\n",
    "    \n",
    "X_train.shape, y_train.shape"
   ]
  },
  {
   "cell_type": "code",
   "execution_count": null,
   "metadata": {},
   "outputs": [],
   "source": [
    "np.c_[X_train, y_train].shape"
   ]
  },
  {
   "cell_type": "code",
   "execution_count": null,
   "metadata": {},
   "outputs": [],
   "source": [
    "label_df = pd.DataFrame(data=y_train)\n",
    "print(label_df[0].value_counts())"
   ]
  },
  {
   "cell_type": "code",
   "execution_count": null,
   "metadata": {},
   "outputs": [],
   "source": [
    "counts = np.bincount(y_train)\n",
    "fig, ax = plt.subplots()\n",
    "ax.bar(range(10), counts, width=0.8, align='center', color='#86bf91')\n",
    "ax.set(xticks=range(10), xlim=[-1, 10])\n",
    "\n",
    "plt.show()"
   ]
  },
  {
   "cell_type": "code",
   "execution_count": null,
   "metadata": {},
   "outputs": [],
   "source": [
    "train_df = pd.DataFrame(data=X_train)\n",
    "train_df.describe()"
   ]
  },
  {
   "cell_type": "markdown",
   "metadata": {},
   "source": [
    "## Dataset"
   ]
  },
  {
   "cell_type": "code",
   "execution_count": null,
   "metadata": {},
   "outputs": [],
   "source": [
    "BATCH_SIZE = 128\n",
    "INPUT_SIZE = 256\n",
    "ENCODE_DIM = (64, 16)\n",
    "\n",
    "FEAT_EPOCHS = 1000\n",
    "\n",
    "device = torch.device(\"cpu\")"
   ]
  },
  {
   "cell_type": "code",
   "execution_count": null,
   "metadata": {},
   "outputs": [],
   "source": [
    "class USPSTrainDataset(Dataset):\n",
    "    def __init__(self, filename):\n",
    "        with h5py.File(filename, 'r') as hf:\n",
    "            train = hf.get('train')\n",
    "            self.X = train.get('data')[:]\n",
    "            self.y = train.get('target')[:]\n",
    "    \n",
    "    def __len__(self):\n",
    "        return len(self.X)\n",
    "    \n",
    "    def __getitem__(self, index):\n",
    "        vector = self.X[index, :]\n",
    "        label = self.y[index]\n",
    "        \n",
    "        return vector, label\n",
    "            \n",
    "class USPSTestDataset(Dataset):\n",
    "    def __init__(self, filename):\n",
    "        with h5py.File(filename, 'r') as hf:\n",
    "            test = hf.get('test')\n",
    "            self.X = test.get('data')[:]\n",
    "            self.y = test.get('target')[:]\n",
    "            \n",
    "    def __len__(self):\n",
    "        return len(self.X)\n",
    "    \n",
    "    def __getitem__(self, index):\n",
    "        vector = self.X[index, :]\n",
    "        label = self.y[index]\n",
    "        \n",
    "        return vector, label"
   ]
  },
  {
   "cell_type": "markdown",
   "metadata": {},
   "source": [
    "## Feature Extraction - Vanilla Autoencoder"
   ]
  },
  {
   "cell_type": "code",
   "execution_count": null,
   "metadata": {},
   "outputs": [],
   "source": [
    "train_dataset = USPSTrainDataset('../data/usps.h5')\n",
    "test_dataset = USPSTestDataset('../data/usps.h5')\n",
    "\n",
    "train_loader = DataLoader(train_dataset, batch_size=BATCH_SIZE, shuffle=True)\n",
    "test_loader = DataLoader(train_dataset, batch_size=BATCH_SIZE, shuffle=True)"
   ]
  },
  {
   "cell_type": "code",
   "execution_count": null,
   "metadata": {},
   "outputs": [],
   "source": [
    "class Autoencoder(nn.Module):\n",
    "    def __init__(self, input_size, encode_dim):\n",
    "        super(Autoencoder, self).__init__()\n",
    "        \n",
    "        self.encoder = nn.Sequential(\n",
    "            nn.Linear(input_size, encode_dim[0]),\n",
    "            nn.ReLU(True),\n",
    "            nn.Linear(encode_dim[0], encode_dim[1]),\n",
    "            nn.ReLU(True))\n",
    "\n",
    "        self.decoder = nn.Sequential(             \n",
    "            nn.Linear(encode_dim[1], encode_dim[0]),\n",
    "            nn.ReLU(True),\n",
    "            nn.Linear(encode_dim[0], input_size))\n",
    "\n",
    "    def forward(self, x):\n",
    "        x_enc = self.encoder(x)\n",
    "        x_dec = self.decoder(x_enc)\n",
    "        return x_dec, x_enc"
   ]
  },
  {
   "cell_type": "code",
   "execution_count": null,
   "metadata": {},
   "outputs": [],
   "source": [
    "def train(epoch):\n",
    "    for data in train_loader:\n",
    "        vec, labels = data\n",
    "        vec = Variable(vec, requires_grad=True).cpu()\n",
    "        \n",
    "        # ===================forward=====================\n",
    "        dec, enc = model(vec)\n",
    "        loss = distance(dec, vec)\n",
    "        \n",
    "        # ===================backward====================\n",
    "        optimizer.zero_grad()\n",
    "        loss.backward()\n",
    "        optimizer.step()\n",
    "        \n",
    "    print('epoch [{}/{}], loss: {:.4f}'.format(epoch + 1, FEAT_EPOCHS, loss.item()))\n",
    "    return loss.item()"
   ]
  },
  {
   "cell_type": "code",
   "execution_count": null,
   "metadata": {},
   "outputs": [],
   "source": [
    "writer = SummaryWriter()\n",
    "model = Autoencoder().cpu()\n",
    "distance = nn.MSELoss()\n",
    "optimizer = torch.optim.SGD(model.parameters(), lr = 1, momentum = 0.9)\n",
    "\n",
    "for epoch in range(FEAT_EPOCHS):\n",
    "    loss = train(epoch)\n",
    "    writer.add_scalar('usps/mse', loss, epoch)\n",
    "    \n",
    "writer.close()"
   ]
  },
  {
   "cell_type": "code",
   "execution_count": null,
   "metadata": {},
   "outputs": [],
   "source": [
    "writer.close()"
   ]
  },
  {
   "cell_type": "code",
   "execution_count": null,
   "metadata": {},
   "outputs": [],
   "source": [
    "torch.save(model.state_dict(), './USPS_Feat_1000_lr_10')"
   ]
  },
  {
   "cell_type": "markdown",
   "metadata": {},
   "source": [
    "## Model"
   ]
  },
  {
   "cell_type": "code",
   "execution_count": null,
   "metadata": {},
   "outputs": [],
   "source": [
    "model = Autoencoder(INPUT_SIZE, ENCODE_DIM)\n",
    "model.load_state_dict(torch.load('./USPS_Feat_1000_lr_01'))"
   ]
  },
  {
   "cell_type": "code",
   "execution_count": null,
   "metadata": {},
   "outputs": [],
   "source": [
    "def to_latent(dataset_loader):\n",
    "    model.eval()\n",
    "    encs = torch.Tensor([])\n",
    "    labels = []\n",
    "    for data in dataset_loader:\n",
    "        vec, label = data\n",
    "        vec = Variable(vec, requires_grad=False).cpu()\n",
    "        _, enc = model(vec)\n",
    "        \n",
    "        encs = torch.cat((encs, enc))\n",
    "        labels.extend([l.tolist() for l in label])\n",
    "        \n",
    "    return encs.detach().numpy(), labels"
   ]
  },
  {
   "cell_type": "code",
   "execution_count": null,
   "metadata": {},
   "outputs": [],
   "source": [
    "encs, labels = to_latent(train_loader)"
   ]
  },
  {
   "cell_type": "code",
   "execution_count": null,
   "metadata": {},
   "outputs": [],
   "source": [
    "latent_df = pd.DataFrame(data=np.c_[encs, labels])"
   ]
  },
  {
   "cell_type": "code",
   "execution_count": null,
   "metadata": {},
   "outputs": [],
   "source": [
    "latent_df.to_csv('../data/usps_latent.csv', sep='\\t', encoding='utf-8')"
   ]
  },
  {
   "cell_type": "code",
   "execution_count": null,
   "metadata": {},
   "outputs": [],
   "source": [
    "from sklearn import svm\n",
    "from sklearn.model_selection import cross_val_score"
   ]
  },
  {
   "cell_type": "code",
   "execution_count": null,
   "metadata": {},
   "outputs": [],
   "source": [
    "clf = svm.SVC(gamma='auto')\n",
    "latent_scores = cross_val_score(clf, encs, labels, cv=7)"
   ]
  },
  {
   "cell_type": "code",
   "execution_count": null,
   "metadata": {},
   "outputs": [],
   "source": [
    "print(latent_scores.mean(), latent_scores.std())\n",
    "latent_scores"
   ]
  },
  {
   "cell_type": "code",
   "execution_count": null,
   "metadata": {},
   "outputs": [],
   "source": [
    "clf = svm.SVC(gamma='auto')\n",
    "raw_scores = cross_val_score(clf, X_train, y_train, cv=7)"
   ]
  },
  {
   "cell_type": "code",
   "execution_count": null,
   "metadata": {
    "scrolled": true
   },
   "outputs": [],
   "source": [
    "print(raw_scores.mean(), raw_scores.std())\n",
    "raw_scores"
   ]
  },
  {
   "cell_type": "code",
   "execution_count": null,
   "metadata": {},
   "outputs": [],
   "source": [
    "test_encs, test_labels = to_latent(test_loader)"
   ]
  },
  {
   "cell_type": "code",
   "execution_count": null,
   "metadata": {},
   "outputs": [],
   "source": [
    "clf = svm.SVC(gamma='auto')\n",
    "clf.fit(encs, labels)"
   ]
  },
  {
   "cell_type": "code",
   "execution_count": null,
   "metadata": {},
   "outputs": [],
   "source": [
    "clf.score(test_encs, test_labels)"
   ]
  },
  {
   "cell_type": "code",
   "execution_count": null,
   "metadata": {},
   "outputs": [],
   "source": [
    "clf = svm.SVC(gamma='auto')\n",
    "clf.fit(X_train, y_train)"
   ]
  },
  {
   "cell_type": "code",
   "execution_count": null,
   "metadata": {},
   "outputs": [],
   "source": [
    "clf.score(X_test, y_test)"
   ]
  },
  {
   "cell_type": "markdown",
   "metadata": {},
   "source": [
    "## Model selection"
   ]
  },
  {
   "cell_type": "code",
   "execution_count": null,
   "metadata": {},
   "outputs": [],
   "source": [
    "from sklearn import svm\n",
    "from sklearn.pipeline import Pipeline\n",
    "from sklearn.model_selection import GridSearchCV, StratifiedKFold\n",
    "from skorch import NeuralNet"
   ]
  },
  {
   "cell_type": "code",
   "execution_count": null,
   "metadata": {},
   "outputs": [],
   "source": [
    "clf = svm.SVC(gamma='auto')\n",
    "param_grid = {\n",
    "    'svm__C': [0.1, 1, 10, 100]\n",
    "}\n",
    "ppl = Pipeline([\n",
    "    ('svm', clf)\n",
    "])\n",
    "search = GridSearchCV(ppl, \n",
    "                      param_grid, \n",
    "                      iid=False, \n",
    "                      cv=StratifiedKFold(n_splits=7),\n",
    "                      return_train_score=False,\n",
    "                      verbose=10)"
   ]
  },
  {
   "cell_type": "code",
   "execution_count": null,
   "metadata": {},
   "outputs": [],
   "source": [
    "search.fit(X_train, y_train)"
   ]
  },
  {
   "cell_type": "code",
   "execution_count": null,
   "metadata": {},
   "outputs": [],
   "source": [
    "print(\"Best parameter (CV score=%0.3f):\" % search.best_score_)\n",
    "print(search.best_params_)"
   ]
  },
  {
   "cell_type": "code",
   "execution_count": null,
   "metadata": {},
   "outputs": [],
   "source": [
    "search.best_estimator_.score(X_test, y_test)"
   ]
  },
  {
   "cell_type": "code",
   "execution_count": null,
   "metadata": {},
   "outputs": [],
   "source": [
    "class AutoencoderPipeline(NeuralNet):\n",
    "    def get_loss(self, y_pred, y_true, *args, **kwargs):\n",
    "        decoded, _encoded = y_pred\n",
    "        return super().get_loss(decoded, y_true, *args, **kwargs)\n",
    "    \n",
    "    def fit(self, X, y=None, **fit_params):\n",
    "        if not self.warm_start or not self.initialized_:\n",
    "            self.initialize()\n",
    "\n",
    "        self.partial_fit(X, X, **fit_params)\n",
    "        return self\n",
    "    \n",
    "    def transform(self, X):\n",
    "        _decoded, encoded = super().forward(X)\n",
    "        return encoded.numpy()"
   ]
  },
  {
   "cell_type": "code",
   "execution_count": null,
   "metadata": {},
   "outputs": [],
   "source": [
    "autoenc = AutoencoderPipeline(\n",
    "    module__input_size=256,\n",
    "    module__encode_dim=(64, 16),\n",
    "    module=Autoencoder,\n",
    "    max_epochs=100,\n",
    "    criterion=nn.MSELoss,\n",
    "    optimizer__momentum=0.9,\n",
    "    optimizer__lr=1,\n",
    "    optimizer=torch.optim.SGD,\n",
    "    verbose=0\n",
    ")"
   ]
  },
  {
   "cell_type": "code",
   "execution_count": null,
   "metadata": {},
   "outputs": [],
   "source": [
    "clf = svm.SVC(gamma='auto')\n",
    "param_grid = {\n",
    "#     'autofeat__optimizer__lr': [0.1, 1],\n",
    "    'autofeat__module__encode_dim': [(128, 64), (128, 32), (96, 24), (64, 16), (64, 8)],\n",
    "    'svm__C': [10, 100]\n",
    "}\n",
    "\n",
    "best_grid = {\n",
    "    'autofeat__module__encode_dim': [(128, 64), (128, 32)],\n",
    "    'svm__C': [10, 100]\n",
    "}\n",
    "\n",
    "ppl = Pipeline([\n",
    "    ('autofeat', autoenc),\n",
    "    ('svm', clf)\n",
    "])\n",
    "\n",
    "gs = GridSearchCV(ppl, \n",
    "                  best_grid, \n",
    "                  verbose=10,\n",
    "                  cv=StratifiedKFold(n_splits=7))"
   ]
  },
  {
   "cell_type": "code",
   "execution_count": null,
   "metadata": {},
   "outputs": [],
   "source": [
    "gs.fit(X_train, y_train)"
   ]
  },
  {
   "cell_type": "code",
   "execution_count": null,
   "metadata": {},
   "outputs": [],
   "source": [
    "from dask.distributed import Client\n",
    "client = Client()\n",
    "\n",
    "from sklearn.externals import joblib\n",
    "\n",
    "with joblib.parallel_backend('dask'):\n",
    "    gs.fit(X_train, y_train)"
   ]
  },
  {
   "cell_type": "code",
   "execution_count": null,
   "metadata": {},
   "outputs": [],
   "source": []
  }
 ],
 "metadata": {
  "kernelspec": {
   "display_name": "Python 3",
   "language": "python",
   "name": "python3"
  },
  "language_info": {
   "codemirror_mode": {
    "name": "ipython",
    "version": 3
   },
   "file_extension": ".py",
   "mimetype": "text/x-python",
   "name": "python",
   "nbconvert_exporter": "python",
   "pygments_lexer": "ipython3",
   "version": "3.7.3"
  }
 },
 "nbformat": 4,
 "nbformat_minor": 2
}
