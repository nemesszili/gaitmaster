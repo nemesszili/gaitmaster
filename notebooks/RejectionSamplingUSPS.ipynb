{
 "cells": [
  {
   "cell_type": "code",
   "execution_count": 2,
   "metadata": {},
   "outputs": [],
   "source": [
    "# https://stats.stackexchange.com/questions/340175/why-is-t-sne-not-used-as-a-dimensionality-reduction-technique-for-clustering-or\n",
    "# http://www.cs.colorado.edu/~mozer/Teaching/syllabi/6622/papers/Platt1999.pdf\n",
    "# https://github.com/DmitryUlyanov/Multicore-TSNE"
   ]
  },
  {
   "cell_type": "code",
   "execution_count": 3,
   "metadata": {},
   "outputs": [],
   "source": [
    "import h5py\n",
    "import numpy as np\n",
    "import pandas as pd\n",
    "from pathlib import Path\n",
    "from pprint import pprint "
   ]
  },
  {
   "cell_type": "code",
   "execution_count": 4,
   "metadata": {},
   "outputs": [
    {
     "data": {
      "text/plain": [
       "((7291, 256), (7291,))"
      ]
     },
     "execution_count": 4,
     "metadata": {},
     "output_type": "execute_result"
    }
   ],
   "source": [
    "with h5py.File('../data/usps.h5', 'r') as hf:\n",
    "    train = hf.get('train')\n",
    "    X_train = train.get('data')[:]\n",
    "    y_train = train.get('target')[:]\n",
    "    test = hf.get('test')\n",
    "    X_test = test.get('data')[:]\n",
    "    y_test = test.get('target')[:]\n",
    "    \n",
    "X_train.shape, y_train.shape"
   ]
  },
  {
   "cell_type": "code",
   "execution_count": 5,
   "metadata": {},
   "outputs": [
    {
     "data": {
      "text/html": [
       "<div>\n",
       "<style scoped>\n",
       "    .dataframe tbody tr th:only-of-type {\n",
       "        vertical-align: middle;\n",
       "    }\n",
       "\n",
       "    .dataframe tbody tr th {\n",
       "        vertical-align: top;\n",
       "    }\n",
       "\n",
       "    .dataframe thead th {\n",
       "        text-align: right;\n",
       "    }\n",
       "</style>\n",
       "<table border=\"1\" class=\"dataframe\">\n",
       "  <thead>\n",
       "    <tr style=\"text-align: right;\">\n",
       "      <th></th>\n",
       "      <th>0</th>\n",
       "      <th>1</th>\n",
       "      <th>2</th>\n",
       "      <th>3</th>\n",
       "      <th>4</th>\n",
       "      <th>5</th>\n",
       "      <th>6</th>\n",
       "      <th>7</th>\n",
       "      <th>8</th>\n",
       "      <th>9</th>\n",
       "      <th>...</th>\n",
       "      <th>246</th>\n",
       "      <th>247</th>\n",
       "      <th>248</th>\n",
       "      <th>249</th>\n",
       "      <th>250</th>\n",
       "      <th>251</th>\n",
       "      <th>252</th>\n",
       "      <th>253</th>\n",
       "      <th>254</th>\n",
       "      <th>255</th>\n",
       "    </tr>\n",
       "  </thead>\n",
       "  <tbody>\n",
       "    <tr>\n",
       "      <th>0</th>\n",
       "      <td>0.0</td>\n",
       "      <td>0.0</td>\n",
       "      <td>0.0</td>\n",
       "      <td>0.0000</td>\n",
       "      <td>0.0000</td>\n",
       "      <td>0.0000</td>\n",
       "      <td>0.0000</td>\n",
       "      <td>0.1845</td>\n",
       "      <td>0.9310</td>\n",
       "      <td>0.4165</td>\n",
       "      <td>...</td>\n",
       "      <td>0.6520</td>\n",
       "      <td>0.9115</td>\n",
       "      <td>1.0000</td>\n",
       "      <td>0.7410</td>\n",
       "      <td>0.2630</td>\n",
       "      <td>0.0045</td>\n",
       "      <td>0.0000</td>\n",
       "      <td>0.0000</td>\n",
       "      <td>0.000</td>\n",
       "      <td>0.0</td>\n",
       "    </tr>\n",
       "    <tr>\n",
       "      <th>1</th>\n",
       "      <td>0.0</td>\n",
       "      <td>0.0</td>\n",
       "      <td>0.0</td>\n",
       "      <td>0.0935</td>\n",
       "      <td>0.1645</td>\n",
       "      <td>0.0955</td>\n",
       "      <td>0.0565</td>\n",
       "      <td>0.1645</td>\n",
       "      <td>0.0735</td>\n",
       "      <td>0.0000</td>\n",
       "      <td>...</td>\n",
       "      <td>0.1645</td>\n",
       "      <td>0.1645</td>\n",
       "      <td>0.4835</td>\n",
       "      <td>0.8805</td>\n",
       "      <td>0.8810</td>\n",
       "      <td>0.5630</td>\n",
       "      <td>0.4525</td>\n",
       "      <td>0.1645</td>\n",
       "      <td>0.086</td>\n",
       "      <td>0.0</td>\n",
       "    </tr>\n",
       "    <tr>\n",
       "      <th>2</th>\n",
       "      <td>0.0</td>\n",
       "      <td>0.0</td>\n",
       "      <td>0.0</td>\n",
       "      <td>0.0000</td>\n",
       "      <td>0.0000</td>\n",
       "      <td>0.0000</td>\n",
       "      <td>0.0000</td>\n",
       "      <td>0.0000</td>\n",
       "      <td>0.0000</td>\n",
       "      <td>0.0020</td>\n",
       "      <td>...</td>\n",
       "      <td>0.0000</td>\n",
       "      <td>0.0000</td>\n",
       "      <td>0.0000</td>\n",
       "      <td>0.4455</td>\n",
       "      <td>1.0000</td>\n",
       "      <td>0.4105</td>\n",
       "      <td>0.0000</td>\n",
       "      <td>0.0000</td>\n",
       "      <td>0.000</td>\n",
       "      <td>0.0</td>\n",
       "    </tr>\n",
       "    <tr>\n",
       "      <th>3</th>\n",
       "      <td>0.0</td>\n",
       "      <td>0.0</td>\n",
       "      <td>0.0</td>\n",
       "      <td>0.0000</td>\n",
       "      <td>0.0000</td>\n",
       "      <td>0.3635</td>\n",
       "      <td>0.8420</td>\n",
       "      <td>0.9800</td>\n",
       "      <td>0.7250</td>\n",
       "      <td>0.4665</td>\n",
       "      <td>...</td>\n",
       "      <td>0.3410</td>\n",
       "      <td>1.0000</td>\n",
       "      <td>0.7680</td>\n",
       "      <td>0.0065</td>\n",
       "      <td>0.0000</td>\n",
       "      <td>0.0000</td>\n",
       "      <td>0.0000</td>\n",
       "      <td>0.0000</td>\n",
       "      <td>0.000</td>\n",
       "      <td>0.0</td>\n",
       "    </tr>\n",
       "    <tr>\n",
       "      <th>4</th>\n",
       "      <td>0.0</td>\n",
       "      <td>0.0</td>\n",
       "      <td>0.0</td>\n",
       "      <td>0.0000</td>\n",
       "      <td>0.0000</td>\n",
       "      <td>0.0360</td>\n",
       "      <td>0.3980</td>\n",
       "      <td>0.8755</td>\n",
       "      <td>0.7330</td>\n",
       "      <td>0.6170</td>\n",
       "      <td>...</td>\n",
       "      <td>0.7330</td>\n",
       "      <td>0.8195</td>\n",
       "      <td>1.0000</td>\n",
       "      <td>1.0000</td>\n",
       "      <td>0.8955</td>\n",
       "      <td>0.7195</td>\n",
       "      <td>0.4005</td>\n",
       "      <td>0.0585</td>\n",
       "      <td>0.000</td>\n",
       "      <td>0.0</td>\n",
       "    </tr>\n",
       "  </tbody>\n",
       "</table>\n",
       "<p>5 rows × 256 columns</p>\n",
       "</div>"
      ],
      "text/plain": [
       "   0    1    2       3       4       5       6       7       8       9    ...  \\\n",
       "0  0.0  0.0  0.0  0.0000  0.0000  0.0000  0.0000  0.1845  0.9310  0.4165  ...   \n",
       "1  0.0  0.0  0.0  0.0935  0.1645  0.0955  0.0565  0.1645  0.0735  0.0000  ...   \n",
       "2  0.0  0.0  0.0  0.0000  0.0000  0.0000  0.0000  0.0000  0.0000  0.0020  ...   \n",
       "3  0.0  0.0  0.0  0.0000  0.0000  0.3635  0.8420  0.9800  0.7250  0.4665  ...   \n",
       "4  0.0  0.0  0.0  0.0000  0.0000  0.0360  0.3980  0.8755  0.7330  0.6170  ...   \n",
       "\n",
       "      246     247     248     249     250     251     252     253    254  255  \n",
       "0  0.6520  0.9115  1.0000  0.7410  0.2630  0.0045  0.0000  0.0000  0.000  0.0  \n",
       "1  0.1645  0.1645  0.4835  0.8805  0.8810  0.5630  0.4525  0.1645  0.086  0.0  \n",
       "2  0.0000  0.0000  0.0000  0.4455  1.0000  0.4105  0.0000  0.0000  0.000  0.0  \n",
       "3  0.3410  1.0000  0.7680  0.0065  0.0000  0.0000  0.0000  0.0000  0.000  0.0  \n",
       "4  0.7330  0.8195  1.0000  1.0000  0.8955  0.7195  0.4005  0.0585  0.000  0.0  \n",
       "\n",
       "[5 rows x 256 columns]"
      ]
     },
     "execution_count": 5,
     "metadata": {},
     "output_type": "execute_result"
    }
   ],
   "source": [
    "df = pd.DataFrame(data=X_train)\n",
    "df.head()"
   ]
  },
  {
   "cell_type": "code",
   "execution_count": 6,
   "metadata": {
    "scrolled": true
   },
   "outputs": [
    {
     "data": {
      "text/html": [
       "<div>\n",
       "<style scoped>\n",
       "    .dataframe tbody tr th:only-of-type {\n",
       "        vertical-align: middle;\n",
       "    }\n",
       "\n",
       "    .dataframe tbody tr th {\n",
       "        vertical-align: top;\n",
       "    }\n",
       "\n",
       "    .dataframe thead th {\n",
       "        text-align: right;\n",
       "    }\n",
       "</style>\n",
       "<table border=\"1\" class=\"dataframe\">\n",
       "  <thead>\n",
       "    <tr style=\"text-align: right;\">\n",
       "      <th></th>\n",
       "      <th>0</th>\n",
       "      <th>1</th>\n",
       "      <th>2</th>\n",
       "      <th>3</th>\n",
       "      <th>4</th>\n",
       "      <th>5</th>\n",
       "      <th>6</th>\n",
       "      <th>7</th>\n",
       "      <th>8</th>\n",
       "      <th>9</th>\n",
       "      <th>...</th>\n",
       "      <th>246</th>\n",
       "      <th>247</th>\n",
       "      <th>248</th>\n",
       "      <th>249</th>\n",
       "      <th>250</th>\n",
       "      <th>251</th>\n",
       "      <th>252</th>\n",
       "      <th>253</th>\n",
       "      <th>254</th>\n",
       "      <th>255</th>\n",
       "    </tr>\n",
       "  </thead>\n",
       "  <tbody>\n",
       "    <tr>\n",
       "      <th>count</th>\n",
       "      <td>7291.000000</td>\n",
       "      <td>7291.000000</td>\n",
       "      <td>7291.000000</td>\n",
       "      <td>7291.000000</td>\n",
       "      <td>7291.000000</td>\n",
       "      <td>7291.000000</td>\n",
       "      <td>7291.000000</td>\n",
       "      <td>7291.000000</td>\n",
       "      <td>7291.00000</td>\n",
       "      <td>7291.000000</td>\n",
       "      <td>...</td>\n",
       "      <td>7291.000000</td>\n",
       "      <td>7291.000000</td>\n",
       "      <td>7291.000000</td>\n",
       "      <td>7291.000000</td>\n",
       "      <td>7291.000000</td>\n",
       "      <td>7291.000000</td>\n",
       "      <td>7291.000000</td>\n",
       "      <td>7291.000000</td>\n",
       "      <td>7291.000000</td>\n",
       "      <td>7291.000000</td>\n",
       "    </tr>\n",
       "    <tr>\n",
       "      <th>mean</th>\n",
       "      <td>0.001791</td>\n",
       "      <td>0.009431</td>\n",
       "      <td>0.024424</td>\n",
       "      <td>0.056131</td>\n",
       "      <td>0.113266</td>\n",
       "      <td>0.194849</td>\n",
       "      <td>0.315504</td>\n",
       "      <td>0.477115</td>\n",
       "      <td>0.47368</td>\n",
       "      <td>0.357718</td>\n",
       "      <td>...</td>\n",
       "      <td>0.400727</td>\n",
       "      <td>0.569911</td>\n",
       "      <td>0.558219</td>\n",
       "      <td>0.342946</td>\n",
       "      <td>0.173145</td>\n",
       "      <td>0.081071</td>\n",
       "      <td>0.038903</td>\n",
       "      <td>0.021304</td>\n",
       "      <td>0.010355</td>\n",
       "      <td>0.002661</td>\n",
       "    </tr>\n",
       "    <tr>\n",
       "      <th>std</th>\n",
       "      <td>0.025856</td>\n",
       "      <td>0.075601</td>\n",
       "      <td>0.122132</td>\n",
       "      <td>0.180258</td>\n",
       "      <td>0.251330</td>\n",
       "      <td>0.314355</td>\n",
       "      <td>0.358016</td>\n",
       "      <td>0.384152</td>\n",
       "      <td>0.37649</td>\n",
       "      <td>0.373419</td>\n",
       "      <td>...</td>\n",
       "      <td>0.386447</td>\n",
       "      <td>0.376492</td>\n",
       "      <td>0.378668</td>\n",
       "      <td>0.362929</td>\n",
       "      <td>0.291277</td>\n",
       "      <td>0.207323</td>\n",
       "      <td>0.150415</td>\n",
       "      <td>0.114350</td>\n",
       "      <td>0.079499</td>\n",
       "      <td>0.033028</td>\n",
       "    </tr>\n",
       "    <tr>\n",
       "      <th>min</th>\n",
       "      <td>0.000000</td>\n",
       "      <td>0.000000</td>\n",
       "      <td>0.000000</td>\n",
       "      <td>0.000000</td>\n",
       "      <td>0.000000</td>\n",
       "      <td>0.000000</td>\n",
       "      <td>0.000000</td>\n",
       "      <td>0.000000</td>\n",
       "      <td>0.00000</td>\n",
       "      <td>0.000000</td>\n",
       "      <td>...</td>\n",
       "      <td>0.000000</td>\n",
       "      <td>0.000000</td>\n",
       "      <td>0.000000</td>\n",
       "      <td>0.000000</td>\n",
       "      <td>0.000000</td>\n",
       "      <td>0.000000</td>\n",
       "      <td>0.000000</td>\n",
       "      <td>0.000000</td>\n",
       "      <td>0.000000</td>\n",
       "      <td>0.000000</td>\n",
       "    </tr>\n",
       "    <tr>\n",
       "      <th>25%</th>\n",
       "      <td>0.000000</td>\n",
       "      <td>0.000000</td>\n",
       "      <td>0.000000</td>\n",
       "      <td>0.000000</td>\n",
       "      <td>0.000000</td>\n",
       "      <td>0.000000</td>\n",
       "      <td>0.000000</td>\n",
       "      <td>0.000500</td>\n",
       "      <td>0.02500</td>\n",
       "      <td>0.000000</td>\n",
       "      <td>...</td>\n",
       "      <td>0.000000</td>\n",
       "      <td>0.169250</td>\n",
       "      <td>0.131000</td>\n",
       "      <td>0.000000</td>\n",
       "      <td>0.000000</td>\n",
       "      <td>0.000000</td>\n",
       "      <td>0.000000</td>\n",
       "      <td>0.000000</td>\n",
       "      <td>0.000000</td>\n",
       "      <td>0.000000</td>\n",
       "    </tr>\n",
       "    <tr>\n",
       "      <th>50%</th>\n",
       "      <td>0.000000</td>\n",
       "      <td>0.000000</td>\n",
       "      <td>0.000000</td>\n",
       "      <td>0.000000</td>\n",
       "      <td>0.000000</td>\n",
       "      <td>0.000000</td>\n",
       "      <td>0.140500</td>\n",
       "      <td>0.530500</td>\n",
       "      <td>0.50100</td>\n",
       "      <td>0.219500</td>\n",
       "      <td>...</td>\n",
       "      <td>0.323500</td>\n",
       "      <td>0.684000</td>\n",
       "      <td>0.668000</td>\n",
       "      <td>0.210500</td>\n",
       "      <td>0.000000</td>\n",
       "      <td>0.000000</td>\n",
       "      <td>0.000000</td>\n",
       "      <td>0.000000</td>\n",
       "      <td>0.000000</td>\n",
       "      <td>0.000000</td>\n",
       "    </tr>\n",
       "    <tr>\n",
       "      <th>75%</th>\n",
       "      <td>0.000000</td>\n",
       "      <td>0.000000</td>\n",
       "      <td>0.000000</td>\n",
       "      <td>0.000000</td>\n",
       "      <td>0.019000</td>\n",
       "      <td>0.304500</td>\n",
       "      <td>0.627250</td>\n",
       "      <td>0.848000</td>\n",
       "      <td>0.83725</td>\n",
       "      <td>0.719000</td>\n",
       "      <td>...</td>\n",
       "      <td>0.777000</td>\n",
       "      <td>0.917500</td>\n",
       "      <td>0.907500</td>\n",
       "      <td>0.673000</td>\n",
       "      <td>0.247750</td>\n",
       "      <td>0.000000</td>\n",
       "      <td>0.000000</td>\n",
       "      <td>0.000000</td>\n",
       "      <td>0.000000</td>\n",
       "      <td>0.000000</td>\n",
       "    </tr>\n",
       "    <tr>\n",
       "      <th>max</th>\n",
       "      <td>0.819000</td>\n",
       "      <td>1.000000</td>\n",
       "      <td>1.000000</td>\n",
       "      <td>1.000000</td>\n",
       "      <td>1.000000</td>\n",
       "      <td>1.000000</td>\n",
       "      <td>1.000000</td>\n",
       "      <td>1.000000</td>\n",
       "      <td>1.00000</td>\n",
       "      <td>1.000000</td>\n",
       "      <td>...</td>\n",
       "      <td>1.000000</td>\n",
       "      <td>1.000000</td>\n",
       "      <td>1.000000</td>\n",
       "      <td>1.000000</td>\n",
       "      <td>1.000000</td>\n",
       "      <td>1.000000</td>\n",
       "      <td>1.000000</td>\n",
       "      <td>1.000000</td>\n",
       "      <td>1.000000</td>\n",
       "      <td>0.796000</td>\n",
       "    </tr>\n",
       "  </tbody>\n",
       "</table>\n",
       "<p>8 rows × 256 columns</p>\n",
       "</div>"
      ],
      "text/plain": [
       "               0            1            2            3            4    \\\n",
       "count  7291.000000  7291.000000  7291.000000  7291.000000  7291.000000   \n",
       "mean      0.001791     0.009431     0.024424     0.056131     0.113266   \n",
       "std       0.025856     0.075601     0.122132     0.180258     0.251330   \n",
       "min       0.000000     0.000000     0.000000     0.000000     0.000000   \n",
       "25%       0.000000     0.000000     0.000000     0.000000     0.000000   \n",
       "50%       0.000000     0.000000     0.000000     0.000000     0.000000   \n",
       "75%       0.000000     0.000000     0.000000     0.000000     0.019000   \n",
       "max       0.819000     1.000000     1.000000     1.000000     1.000000   \n",
       "\n",
       "               5            6            7           8            9    ...  \\\n",
       "count  7291.000000  7291.000000  7291.000000  7291.00000  7291.000000  ...   \n",
       "mean      0.194849     0.315504     0.477115     0.47368     0.357718  ...   \n",
       "std       0.314355     0.358016     0.384152     0.37649     0.373419  ...   \n",
       "min       0.000000     0.000000     0.000000     0.00000     0.000000  ...   \n",
       "25%       0.000000     0.000000     0.000500     0.02500     0.000000  ...   \n",
       "50%       0.000000     0.140500     0.530500     0.50100     0.219500  ...   \n",
       "75%       0.304500     0.627250     0.848000     0.83725     0.719000  ...   \n",
       "max       1.000000     1.000000     1.000000     1.00000     1.000000  ...   \n",
       "\n",
       "               246          247          248          249          250  \\\n",
       "count  7291.000000  7291.000000  7291.000000  7291.000000  7291.000000   \n",
       "mean      0.400727     0.569911     0.558219     0.342946     0.173145   \n",
       "std       0.386447     0.376492     0.378668     0.362929     0.291277   \n",
       "min       0.000000     0.000000     0.000000     0.000000     0.000000   \n",
       "25%       0.000000     0.169250     0.131000     0.000000     0.000000   \n",
       "50%       0.323500     0.684000     0.668000     0.210500     0.000000   \n",
       "75%       0.777000     0.917500     0.907500     0.673000     0.247750   \n",
       "max       1.000000     1.000000     1.000000     1.000000     1.000000   \n",
       "\n",
       "               251          252          253          254          255  \n",
       "count  7291.000000  7291.000000  7291.000000  7291.000000  7291.000000  \n",
       "mean      0.081071     0.038903     0.021304     0.010355     0.002661  \n",
       "std       0.207323     0.150415     0.114350     0.079499     0.033028  \n",
       "min       0.000000     0.000000     0.000000     0.000000     0.000000  \n",
       "25%       0.000000     0.000000     0.000000     0.000000     0.000000  \n",
       "50%       0.000000     0.000000     0.000000     0.000000     0.000000  \n",
       "75%       0.000000     0.000000     0.000000     0.000000     0.000000  \n",
       "max       1.000000     1.000000     1.000000     1.000000     0.796000  \n",
       "\n",
       "[8 rows x 256 columns]"
      ]
     },
     "execution_count": 6,
     "metadata": {},
     "output_type": "execute_result"
    }
   ],
   "source": [
    "df.describe()"
   ]
  },
  {
   "cell_type": "code",
   "execution_count": 7,
   "metadata": {},
   "outputs": [
    {
     "data": {
      "text/plain": [
       "(1, 256)"
      ]
     },
     "execution_count": 7,
     "metadata": {},
     "output_type": "execute_result"
    }
   ],
   "source": [
    "(df.min().values + np.random.rand(1, 256) * (df.max().values - df.min().values)).shape"
   ]
  },
  {
   "cell_type": "code",
   "execution_count": 8,
   "metadata": {},
   "outputs": [
    {
     "data": {
      "text/plain": [
       "array([[0.09095624, 0.85335228, 0.19443776, 0.13706935, 0.60882721]])"
      ]
     },
     "execution_count": 8,
     "metadata": {},
     "output_type": "execute_result"
    }
   ],
   "source": [
    "np.random.rand(1, 5)"
   ]
  },
  {
   "cell_type": "code",
   "execution_count": 9,
   "metadata": {},
   "outputs": [],
   "source": [
    "from sklearn import svm"
   ]
  },
  {
   "cell_type": "code",
   "execution_count": 10,
   "metadata": {},
   "outputs": [],
   "source": [
    "X = np.concatenate((X_train, X_test), axis=0)\n",
    "y = np.concatenate((y_train, y_test), axis=0)"
   ]
  },
  {
   "cell_type": "code",
   "execution_count": 11,
   "metadata": {},
   "outputs": [
    {
     "data": {
      "text/plain": [
       "OneClassSVM(cache_size=200, coef0=0.0, degree=3, gamma='auto', kernel='rbf',\n",
       "      max_iter=-1, nu=0.2, random_state=None, shrinking=True, tol=0.001,\n",
       "      verbose=False)"
      ]
     },
     "execution_count": 11,
     "metadata": {},
     "output_type": "execute_result"
    }
   ],
   "source": [
    "clf = svm.OneClassSVM(nu=0.2, kernel=\"rbf\", gamma='auto')\n",
    "clf.fit(X_train)"
   ]
  },
  {
   "cell_type": "code",
   "execution_count": 12,
   "metadata": {},
   "outputs": [
    {
     "data": {
      "text/plain": [
       "array([[1., 1., 1., 1., 1.],\n",
       "       [0., 0., 0., 0., 0.]])"
      ]
     },
     "execution_count": 12,
     "metadata": {},
     "output_type": "execute_result"
    }
   ],
   "source": [
    "a = np.zeros((2, 5))\n",
    "a[0, :] = np.ones((1, 5))\n",
    "a"
   ]
  },
  {
   "cell_type": "code",
   "execution_count": 14,
   "metadata": {},
   "outputs": [
    {
     "name": "stdout",
     "output_type": "stream",
     "text": [
      "(21873, 256)\n"
     ]
    }
   ],
   "source": [
    "num_neg_samples = X_train.shape[0] * 3\n",
    "# num_neg_samples = 500\n",
    "neg_samples = np.zeros((num_neg_samples, X_train.shape[1]))\n",
    "datamin = df.min().values\n",
    "datamax = df.max().values\n",
    "\n",
    "for i in range(num_neg_samples):\n",
    "    while True:\n",
    "        # Generate sample\n",
    "        sample = datamin + np.random.rand(1, 256) * (datamax - datamin)\n",
    "\n",
    "        if clf.predict(sample) == -1:\n",
    "            neg_samples[i, :] = sample\n",
    "            break\n",
    "    \n",
    "pprint(neg_samples.shape)"
   ]
  },
  {
   "cell_type": "code",
   "execution_count": 15,
   "metadata": {},
   "outputs": [],
   "source": [
    "neg_X_train = np.append(X_train, neg_samples, axis=0)"
   ]
  },
  {
   "cell_type": "code",
   "execution_count": 16,
   "metadata": {},
   "outputs": [
    {
     "data": {
      "text/plain": [
       "(29164, 256)"
      ]
     },
     "execution_count": 16,
     "metadata": {},
     "output_type": "execute_result"
    }
   ],
   "source": [
    "neg_X_train.shape"
   ]
  },
  {
   "cell_type": "code",
   "execution_count": 17,
   "metadata": {},
   "outputs": [
    {
     "data": {
      "text/plain": [
       "(7291,)"
      ]
     },
     "execution_count": 17,
     "metadata": {},
     "output_type": "execute_result"
    }
   ],
   "source": [
    "y_train.shape"
   ]
  },
  {
   "cell_type": "code",
   "execution_count": 18,
   "metadata": {},
   "outputs": [],
   "source": [
    "neg_y_train = np.append(y_train, np.zeros(X_train.shape[0] * 3) + 10, axis=0)"
   ]
  },
  {
   "cell_type": "code",
   "execution_count": 19,
   "metadata": {},
   "outputs": [
    {
     "data": {
      "text/plain": [
       "(29164,)"
      ]
     },
     "execution_count": 19,
     "metadata": {},
     "output_type": "execute_result"
    }
   ],
   "source": [
    "neg_y_train.shape"
   ]
  },
  {
   "cell_type": "code",
   "execution_count": 20,
   "metadata": {},
   "outputs": [
    {
     "data": {
      "text/plain": [
       "{0.0: 1194,\n",
       " 1.0: 1005,\n",
       " 2.0: 731,\n",
       " 3.0: 658,\n",
       " 4.0: 652,\n",
       " 5.0: 556,\n",
       " 6.0: 664,\n",
       " 7.0: 645,\n",
       " 8.0: 542,\n",
       " 9.0: 644,\n",
       " 10.0: 21873}"
      ]
     },
     "execution_count": 20,
     "metadata": {},
     "output_type": "execute_result"
    }
   ],
   "source": [
    "unique, counts = np.unique(neg_y_train, return_counts=True)\n",
    "dict(zip(unique, counts))"
   ]
  },
  {
   "cell_type": "code",
   "execution_count": 47,
   "metadata": {},
   "outputs": [],
   "source": [
    "from sklearn.model_selection import cross_val_score\n",
    "clf_svm = svm.SVC(gamma='auto')\n",
    "scores = cross_val_score(clf_svm, neg_X_train, neg_y_train, cv=7)"
   ]
  },
  {
   "cell_type": "code",
   "execution_count": 48,
   "metadata": {},
   "outputs": [
    {
     "name": "stdout",
     "output_type": "stream",
     "text": [
      "0.9888561598069694 0.00108685076383816\n"
     ]
    }
   ],
   "source": [
    "print(scores.mean(), scores.std())"
   ]
  },
  {
   "cell_type": "code",
   "execution_count": 49,
   "metadata": {},
   "outputs": [
    {
     "data": {
      "text/plain": [
       "0.9277528649725959"
      ]
     },
     "execution_count": 49,
     "metadata": {},
     "output_type": "execute_result"
    }
   ],
   "source": [
    "clf_svm = svm.SVC(gamma='auto')\n",
    "clf_svm.fit(neg_X_train, neg_y_train)\n",
    "clf_svm.score(X_test, y_test)"
   ]
  },
  {
   "cell_type": "code",
   "execution_count": 50,
   "metadata": {},
   "outputs": [],
   "source": [
    "clf_svm = svm.SVC(gamma='auto')\n",
    "scores = cross_val_score(clf_svm, X_train, y_train, cv=7)"
   ]
  },
  {
   "cell_type": "code",
   "execution_count": 51,
   "metadata": {},
   "outputs": [
    {
     "name": "stdout",
     "output_type": "stream",
     "text": [
      "0.9554251209533143 0.004337592371196017\n"
     ]
    }
   ],
   "source": [
    "print(scores.mean(), scores.std())"
   ]
  },
  {
   "cell_type": "code",
   "execution_count": 52,
   "metadata": {},
   "outputs": [
    {
     "data": {
      "text/plain": [
       "0.9277528649725959"
      ]
     },
     "execution_count": 52,
     "metadata": {},
     "output_type": "execute_result"
    }
   ],
   "source": [
    "clf_svm2 = svm.SVC(gamma='auto')\n",
    "clf_svm2.fit(X_train, y_train)\n",
    "clf_svm2.score(X_test, y_test)"
   ]
  },
  {
   "cell_type": "markdown",
   "metadata": {},
   "source": [
    "# Visualize"
   ]
  },
  {
   "cell_type": "code",
   "execution_count": 21,
   "metadata": {},
   "outputs": [],
   "source": [
    "X = neg_X_train\n",
    "y = neg_y_train"
   ]
  },
  {
   "cell_type": "code",
   "execution_count": 22,
   "metadata": {},
   "outputs": [],
   "source": [
    "%load_ext wurlitzer"
   ]
  },
  {
   "cell_type": "code",
   "execution_count": 25,
   "metadata": {},
   "outputs": [
    {
     "name": "stderr",
     "output_type": "stream",
     "text": [
      "Performing t-SNE using 8 cores.\n",
      "Using no_dims = 2, perplexity = 30.000000, and theta = 0.500000\n",
      "Computing input similarities...\n",
      "Building tree...\n",
      " - point 2916 of 29164\n",
      " - point 5832 of 29164\n",
      " - point 8748 of 29164\n",
      " - point 11664 of 29164\n",
      " - point 14580 of 29164\n",
      " - point 17496 of 29164\n",
      " - point 20412 of 29164\n",
      " - point 23328 of 29164\n",
      " - point 26244 of 29164\n",
      " - point 29160 of 29164\n",
      "Done in 86.00 seconds (sparsity = 0.004650)!\n",
      "Learning embedding...\n",
      "Iteration 51: error is 108.745197 (50 iterations in 10.00 seconds)\n",
      "Iteration 101: error is 104.679512 (50 iterations in 12.00 seconds)\n",
      "Iteration 151: error is 103.850988 (50 iterations in 12.00 seconds)\n",
      "Iteration 201: error is 103.567300 (50 iterations in 15.00 seconds)\n",
      "Iteration 251: error is 103.447066 (50 iterations in 14.00 seconds)\n",
      "Iteration 301: error is 5.736957 (50 iterations in 11.00 seconds)\n",
      "Iteration 351: error is 5.586588 (50 iterations in 10.00 seconds)\n",
      "Iteration 401: error is 5.486267 (50 iterations in 10.00 seconds)\n",
      "Iteration 451: error is 5.406228 (50 iterations in 10.00 seconds)\n",
      "Iteration 501: error is 5.341047 (50 iterations in 10.00 seconds)\n",
      "Iteration 551: error is 5.286468 (50 iterations in 12.00 seconds)\n",
      "Iteration 601: error is 5.240209 (50 iterations in 11.00 seconds)\n",
      "Iteration 651: error is 5.200337 (50 iterations in 9.00 seconds)\n",
      "Iteration 701: error is 5.165727 (50 iterations in 10.00 seconds)\n",
      "Iteration 751: error is 5.135560 (50 iterations in 10.00 seconds)\n",
      "Iteration 801: error is 5.108258 (50 iterations in 11.00 seconds)\n",
      "Iteration 851: error is 5.083514 (50 iterations in 10.00 seconds)\n",
      "Iteration 901: error is 5.061198 (50 iterations in 11.00 seconds)\n",
      "Iteration 951: error is 5.040697 (50 iterations in 10.00 seconds)\n",
      "Iteration 1000: error is 5.022470 (50 iterations in 10.00 seconds)\n",
      "Fitting performed in 218.00 seconds.\n"
     ]
    }
   ],
   "source": [
    "from MulticoreTSNE import MulticoreTSNE as TSNE\n",
    "embeddings_fast = TSNE(n_jobs=8, verbose=2).fit_transform(X)"
   ]
  },
  {
   "cell_type": "code",
   "execution_count": 29,
   "metadata": {},
   "outputs": [
    {
     "name": "stderr",
     "output_type": "stream",
     "text": [
      "Performing t-SNE using 8 cores.\n",
      "Using no_dims = 2, perplexity = 30.000000, and theta = 0.500000\n",
      "Computing input similarities...\n",
      "Building tree...\n",
      " - point 730 of 7291\n",
      " - point 1458 of 7291\n",
      " - point 2187 of 7291\n",
      " - point 2916 of 7291\n",
      " - point 3645 of 7291\n",
      " - point 4374 of 7291\n",
      " - point 5103 of 7291\n",
      " - point 5832 of 7291\n",
      " - point 6561 of 7291\n",
      " - point 7290 of 7291\n",
      "Done in 3.00 seconds (sparsity = 0.017651)!\n",
      "Learning embedding...\n",
      "Iteration 51: error is 87.728705 (50 iterations in 1.00 seconds)\n",
      "Iteration 101: error is 80.453048 (50 iterations in 2.00 seconds)\n",
      "Iteration 151: error is 79.806915 (50 iterations in 2.00 seconds)\n",
      "Iteration 201: error is 79.622929 (50 iterations in 1.00 seconds)\n",
      "Iteration 251: error is 79.570556 (50 iterations in 2.00 seconds)\n",
      "Iteration 301: error is 2.710029 (50 iterations in 1.00 seconds)\n",
      "Iteration 351: error is 2.319104 (50 iterations in 2.00 seconds)\n",
      "Iteration 401: error is 2.123713 (50 iterations in 2.00 seconds)\n",
      "Iteration 451: error is 1.995160 (50 iterations in 2.00 seconds)\n",
      "Iteration 501: error is 1.904283 (50 iterations in 1.00 seconds)\n",
      "Iteration 551: error is 1.837236 (50 iterations in 2.00 seconds)\n",
      "Iteration 601: error is 1.787772 (50 iterations in 2.00 seconds)\n",
      "Iteration 651: error is 1.752918 (50 iterations in 2.00 seconds)\n",
      "Iteration 701: error is 1.729765 (50 iterations in 1.00 seconds)\n",
      "Iteration 751: error is 1.713460 (50 iterations in 2.00 seconds)\n",
      "Iteration 801: error is 1.700270 (50 iterations in 1.00 seconds)\n",
      "Iteration 851: error is 1.688877 (50 iterations in 2.00 seconds)\n",
      "Iteration 901: error is 1.678822 (50 iterations in 1.00 seconds)\n",
      "Iteration 951: error is 1.670067 (50 iterations in 2.00 seconds)\n",
      "Iteration 1000: error is 1.662391 (50 iterations in 2.00 seconds)\n",
      "Fitting performed in 33.00 seconds.\n"
     ]
    }
   ],
   "source": [
    "from MulticoreTSNE import MulticoreTSNE as TSNE\n",
    "train_fast = TSNE(n_jobs=8, verbose=2).fit_transform(X_train)"
   ]
  },
  {
   "cell_type": "code",
   "execution_count": 26,
   "metadata": {},
   "outputs": [],
   "source": [
    "X_2d = embeddings_fast\n",
    "data = np.concatenate((X_2d, y.reshape(y.shape[0], 1)), axis=1)\n",
    "viz_df = pd.DataFrame(data=data, columns=['x', 'y', 'class'])"
   ]
  },
  {
   "cell_type": "code",
   "execution_count": 28,
   "metadata": {},
   "outputs": [
    {
     "data": {
      "text/plain": [
       "<seaborn.axisgrid.FacetGrid at 0x7f3d68ac9278>"
      ]
     },
     "execution_count": 28,
     "metadata": {},
     "output_type": "execute_result"
    },
    {
     "data": {
      "image/png": "[encoded data removed]",
      "text/plain": [
       "<Figure size 1138.12x720 with 1 Axes>"
      ]
     },
     "metadata": {
      "needs_background": "light"
     },
     "output_type": "display_data"
    }
   ],
   "source": [
    "import seaborn as sns\n",
    "import matplotlib.pyplot as plt\n",
    "fg = sns.FacetGrid(data=viz_df, hue='class', hue_order=np.unique(y), aspect=1.5, height=10)\n",
    "fg.map(plt.scatter, 'x', 'y').add_legend()"
   ]
  },
  {
   "cell_type": "code",
   "execution_count": null,
   "metadata": {},
   "outputs": [],
   "source": [
    "# TODO: GAIT - NEGATIVE OTHER USERS"
   ]
  }
 ],
 "metadata": {
  "kernelspec": {
   "display_name": "Python 3",
   "language": "python",
   "name": "python3"
  },
  "language_info": {
   "codemirror_mode": {
    "name": "ipython",
    "version": 3
   },
   "file_extension": ".py",
   "mimetype": "text/x-python",
   "name": "python",
   "nbconvert_exporter": "python",
   "pygments_lexer": "ipython3",
   "version": "3.6.8"
  }
 },
 "nbformat": 4,
 "nbformat_minor": 2
}
