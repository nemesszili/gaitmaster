{
 "cells": [
  {
   "cell_type": "code",
   "execution_count": 1,
   "metadata": {},
   "outputs": [],
   "source": [
    "import torch\n",
    "import torch.nn as nn\n",
    "import torch.nn.functional as F\n",
    "from torch.autograd import Variable\n",
    "from torch.utils.data import Dataset, DataLoader\n",
    "from torch.utils.data.sampler import SubsetRandomSampler"
   ]
  },
  {
   "cell_type": "code",
   "execution_count": 19,
   "metadata": {},
   "outputs": [],
   "source": [
    "m = nn.Conv1d(16, 16, 3)\n",
    "input = torch.randn(20, 16, 50)"
   ]
  },
  {
   "cell_type": "code",
   "execution_count": 20,
   "metadata": {},
   "outputs": [],
   "source": [
    "output = m(input)"
   ]
  },
  {
   "cell_type": "code",
   "execution_count": 21,
   "metadata": {},
   "outputs": [
    {
     "data": {
      "text/plain": [
       "torch.Size([20, 16, 48])"
      ]
     },
     "execution_count": 21,
     "metadata": {},
     "output_type": "execute_result"
    }
   ],
   "source": [
    "output.shape"
   ]
  },
  {
   "cell_type": "code",
   "execution_count": 15,
   "metadata": {},
   "outputs": [],
   "source": [
    "# 20 x (16 x 50) -> 20 x (33 x 48)"
   ]
  },
  {
   "cell_type": "code",
   "execution_count": 41,
   "metadata": {},
   "outputs": [],
   "source": [
    "# 128 x (3 x 128) -> 128 x (3 x 64)"
   ]
  },
  {
   "cell_type": "code",
   "execution_count": 46,
   "metadata": {},
   "outputs": [],
   "source": [
    "m = nn.Conv1d(3, 3, 65)\n",
    "input = torch.randn(128, 3, 128)"
   ]
  },
  {
   "cell_type": "code",
   "execution_count": 47,
   "metadata": {},
   "outputs": [
    {
     "data": {
      "text/plain": [
       "torch.Size([128, 3, 64])"
      ]
     },
     "execution_count": 47,
     "metadata": {},
     "output_type": "execute_result"
    }
   ],
   "source": [
    "m(input).shape"
   ]
  },
  {
   "cell_type": "code",
   "execution_count": 48,
   "metadata": {},
   "outputs": [
    {
     "data": {
      "text/plain": [
       "tensor([ 0.4311,  0.4223, -0.1012,  0.4079, -1.4033, -0.3094, -0.7310, -0.5546,\n",
       "         1.2743,  0.3508, -0.7578,  0.1833,  1.4225,  0.3390, -0.5225, -1.0757,\n",
       "        -0.4338,  1.9633,  1.5587, -0.9259,  0.4802,  1.4960, -1.3043, -0.1574,\n",
       "         2.5176, -0.8280, -1.3436, -0.0147,  0.9149, -0.5770,  0.7857,  0.5865,\n",
       "        -0.7292,  0.6710, -0.7322,  0.7331,  0.7834,  0.9382, -1.3191, -0.7954,\n",
       "        -0.2505, -0.1937,  0.1589, -0.4286,  1.7501,  1.4324,  0.2227,  0.0440,\n",
       "        -0.7726, -0.9869,  0.9172,  0.2647,  0.5396,  0.3858,  0.3276,  0.6935,\n",
       "         0.1652, -0.6218, -2.1617, -0.6580,  0.5294,  0.5957,  1.2561,  0.5966,\n",
       "         0.9625, -0.9995, -1.3388, -0.1939, -1.0310, -0.3308, -0.1624,  0.4423,\n",
       "         1.0738, -1.7962, -0.9491,  0.0120, -0.1206,  1.6342,  1.1364,  0.3616,\n",
       "        -1.2972, -1.0015, -2.0912,  0.7317, -0.3493, -1.2688, -0.1780,  0.8421,\n",
       "         0.2467, -1.6183,  0.0893,  0.3663,  1.4880,  0.3169, -0.8347,  2.1452,\n",
       "         0.6265,  0.7724,  0.8620,  0.3373, -0.5845,  0.8082, -1.4142, -1.6508,\n",
       "        -2.0547,  0.9533,  0.3198,  0.1934, -0.5098,  1.4188,  0.6367,  1.2626,\n",
       "        -1.3230,  0.6819, -0.3219,  1.3787,  0.1142,  0.1993,  1.3750, -0.3944,\n",
       "        -1.0289,  0.9552, -0.1756, -0.9745, -0.2753, -0.3939, -0.2134,  1.3278])"
      ]
     },
     "execution_count": 48,
     "metadata": {},
     "output_type": "execute_result"
    }
   ],
   "source": [
    "input[0][0]"
   ]
  },
  {
   "cell_type": "code",
   "execution_count": 68,
   "metadata": {},
   "outputs": [],
   "source": [
    "m = nn.Conv1d(3, 3, 3)\n",
    "input = torch.randn(1, 3, 5)"
   ]
  },
  {
   "cell_type": "code",
   "execution_count": 69,
   "metadata": {},
   "outputs": [
    {
     "data": {
      "text/plain": [
       "tensor([[[-0.1417, -1.0276,  0.0777],\n",
       "         [-0.8669,  1.1465, -0.6918],\n",
       "         [ 0.1080, -0.2748, -0.3590]]], grad_fn=<SqueezeBackward1>)"
      ]
     },
     "execution_count": 69,
     "metadata": {},
     "output_type": "execute_result"
    }
   ],
   "source": [
    "m(input)"
   ]
  },
  {
   "cell_type": "code",
   "execution_count": 70,
   "metadata": {},
   "outputs": [
    {
     "data": {
      "text/plain": [
       "tensor([[[ 0.9216,  0.1795,  1.0452,  1.6897,  0.6351],\n",
       "         [-1.5135, -1.5387, -0.5990, -1.3724,  0.2759],\n",
       "         [ 1.2232, -1.3808,  1.6702, -0.7384,  0.9874]]])"
      ]
     },
     "execution_count": 70,
     "metadata": {},
     "output_type": "execute_result"
    }
   ],
   "source": [
    "input"
   ]
  },
  {
   "cell_type": "code",
   "execution_count": 75,
   "metadata": {},
   "outputs": [
    {
     "data": {
      "text/plain": [
       "(Parameter containing:\n",
       " tensor([[[ 0.2947, -0.2861, -0.1842],\n",
       "          [ 0.1423, -0.2574,  0.1383],\n",
       "          [ 0.3067,  0.2115, -0.0851]],\n",
       " \n",
       "         [[-0.0919,  0.0674,  0.0819],\n",
       "          [-0.1968,  0.2449,  0.0792],\n",
       "          [-0.1944,  0.2336, -0.1833]],\n",
       " \n",
       "         [[ 0.0758, -0.2465, -0.1027],\n",
       "          [-0.0121, -0.2828, -0.1304],\n",
       "          [-0.0341, -0.1480, -0.1995]]], requires_grad=True),\n",
       " Parameter containing:\n",
       " tensor([-0.2081,  0.1130, -0.1712], requires_grad=True))"
      ]
     },
     "execution_count": 75,
     "metadata": {},
     "output_type": "execute_result"
    }
   ],
   "source": [
    "m.weight, m.bias"
   ]
  },
  {
   "cell_type": "code",
   "execution_count": 79,
   "metadata": {},
   "outputs": [
    {
     "data": {
      "text/plain": [
       "tensor(-0.1804, grad_fn=<AddBackward0>)"
      ]
     },
     "execution_count": 79,
     "metadata": {},
     "output_type": "execute_result"
    }
   ],
   "source": [
    "sum(m.weight[0][0] * input[0][0][:-2]) + m.bias[0]"
   ]
  },
  {
   "cell_type": "code",
   "execution_count": null,
   "metadata": {},
   "outputs": [],
   "source": []
  }
 ],
 "metadata": {
  "kernelspec": {
   "display_name": "Python 3",
   "language": "python",
   "name": "python3"
  },
  "language_info": {
   "codemirror_mode": {
    "name": "ipython",
    "version": 3
   },
   "file_extension": ".py",
   "mimetype": "text/x-python",
   "name": "python",
   "nbconvert_exporter": "python",
   "pygments_lexer": "ipython3",
   "version": "3.6.8"
  }
 },
 "nbformat": 4,
 "nbformat_minor": 2
}
